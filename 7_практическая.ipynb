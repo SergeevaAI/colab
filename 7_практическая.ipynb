{
  "nbformat": 4,
  "nbformat_minor": 0,
  "metadata": {
    "colab": {
      "name": "7 практическая.ipynb",
      "provenance": [],
      "authorship_tag": "ABX9TyM5jVjTEr9lgxHUsU5+c9SI",
      "include_colab_link": true
    },
    "kernelspec": {
      "name": "python3",
      "display_name": "Python 3"
    },
    "language_info": {
      "name": "python"
    }
  },
  "cells": [
    {
      "cell_type": "markdown",
      "metadata": {
        "id": "view-in-github",
        "colab_type": "text"
      },
      "source": [
        "<a href=\"https://colab.research.google.com/github/SergeevaAI/colab/blob/main/7_%D0%BF%D1%80%D0%B0%D0%BA%D1%82%D0%B8%D1%87%D0%B5%D1%81%D0%BA%D0%B0%D1%8F.ipynb\" target=\"_parent\"><img src=\"https://colab.research.google.com/assets/colab-badge.svg\" alt=\"Open In Colab\"/></a>"
      ]
    },
    {
      "cell_type": "code",
      "execution_count": 2,
      "metadata": {
        "colab": {
          "base_uri": "https://localhost:8080/"
        },
        "id": "qMDnO99iNLpa",
        "outputId": "8d523384-0159-4c61-cb7d-f3d55af15406"
      },
      "outputs": [
        {
          "output_type": "stream",
          "name": "stdout",
          "text": [
            "meth\n",
            "None\n",
            "meth\n",
            "None\n"
          ]
        }
      ],
      "source": [
        "class A:\n",
        "  @staticmethod\n",
        "  def meth():\n",
        "    print(\"meth\")\n",
        "a=A()\n",
        "print(a.meth())\n",
        "print(A.meth())\n"
      ]
    },
    {
      "cell_type": "code",
      "source": [
        "class A:\n",
        "  @staticmethod\n",
        "  def meth(value):\n",
        "    print(value)\n",
        "a=A()\n",
        "a.meth(1)\n",
        "A.meth('hello')"
      ],
      "metadata": {
        "colab": {
          "base_uri": "https://localhost:8080/"
        },
        "id": "F9J3FBKDPtKW",
        "outputId": "5f4c06c4-e20c-4a98-88e1-75d6254dba07"
      },
      "execution_count": 3,
      "outputs": [
        {
          "output_type": "stream",
          "name": "stdout",
          "text": [
            "1\n",
            "hello\n"
          ]
        }
      ]
    },
    {
      "cell_type": "code",
      "source": [
        "from math import pi\n",
        "class Cylinder:\n",
        "  @staticmethod\n",
        "  def make_area(d, h):\n",
        "    circle=pi*d**2/4\n",
        "    side=pi*d*h\n",
        "    return round(circle*2+side, 2)\n",
        "  def __init__(self, diameter, high):\n",
        "    self.dia=diameter\n",
        "    self.h=high\n",
        "    self.area=self.make_area(diameter, high)\n",
        "a=Cylinder(1, 2)\n",
        "print(a.area)\n",
        "print(a.make_area(2, 2))"
      ],
      "metadata": {
        "colab": {
          "base_uri": "https://localhost:8080/"
        },
        "id": "YuHgonwuQWz0",
        "outputId": "580aa431-0b6f-45b5-b89b-4ff445b602c0"
      },
      "execution_count": 4,
      "outputs": [
        {
          "output_type": "stream",
          "name": "stdout",
          "text": [
            "7.85\n",
            "18.85\n"
          ]
        }
      ]
    },
    {
      "cell_type": "markdown",
      "source": [
        "Задача №1\n",
        "Представьте себя ненадолго разработчиком компьютерной игры в стиле фэнтези. Вы будете прописывать систему эффектов, которые могут быть наложены на героя вашей игры.\n",
        "\n",
        "У вас есть герой, который обладает некоторым набором характеристик. Враги и союзники могут накладывать на героя положительные и отрицательные эффекты. Эти эффекты каким-то образом изменяют характеристики героя. На героя можно накладывать бесконечно много эффектов, действие одинаковых эффектов суммируется. Игрок должен знать, какие положительные и какие отрицательные эффекты на него были наложены и в каком порядке.\n",
        "\n",
        "Класс герой описан следующим образом (характеристики могут быть другими):"
      ],
      "metadata": {
        "id": "M_5DhMzIdtgQ"
      }
    },
    {
      "cell_type": "code",
      "source": [
        "from abc import ABC, abstractmethod\n",
        "class Hero:\n",
        "    def __init__(self):\n",
        "        self.positive_effects = []\n",
        "        self.negative_effects = []\n",
        "        self.stats = {\n",
        "            \"HP\": 128,\n",
        "            \"MP\": 42,\n",
        "            \"SP\": 100,\n",
        "            \"Strength\": 15,\n",
        "            \"Perception\": 4,\n",
        "            \"Endurance\": 8,\n",
        "            \"Charisma\": 2,\n",
        "            \"Intelligence\": 3,\n",
        "            \"Agility\": 8,\n",
        "            \"Luck\": 1\n",
        "        }\n",
        "\n",
        "    def get_positive_effects(self):\n",
        "        return self.positive_effects.copy()\n",
        "\n",
        "    def get_negative_effects(self):\n",
        "        return self.negative_effects.copy()\n",
        "\n",
        "    def get_stats(self):\n",
        "        return self.stats.copy()"
      ],
      "metadata": {
        "id": "rE6QhfoxdtIU"
      },
      "execution_count": 5,
      "outputs": []
    },
    {
      "cell_type": "markdown",
      "source": [
        "Решение:"
      ],
      "metadata": {
        "id": "Ba_B75NZd54n"
      }
    },
    {
      "cell_type": "code",
      "source": [
        "class AbstractEffect(Hero, ABC):\n",
        "    def __init__(self, base):\n",
        "        self.base = base\n",
        "\n",
        "    @abstractmethod\n",
        "    def get_positive_effects(self):\n",
        "        return self.positive_effects\n",
        "\n",
        "    @abstractmethod\n",
        "    def get_negative_effects(self):\n",
        "        return self.negative_effects\n",
        "\n",
        "    @abstractmethod\n",
        "    def get_stats(self):\n",
        "        pass\n",
        "\n",
        "\n",
        "class AbstractPositive(AbstractEffect):\n",
        "    def get_negative_effects(self):\n",
        "        return self.base.get_negative_effects()\n",
        "\n",
        "\n",
        "class AbstractNegative(AbstractEffect):\n",
        "    def get_positive_effects(self):\n",
        "        return self.base.get_positive_effects()\n",
        "\n",
        "\n",
        "class Berserk(AbstractPositive):\n",
        "    def get_stats(self):\n",
        "        stats = self.base.get_stats()\n",
        "        stats[\"HP\"] += 50\n",
        "        stats[\"Strength\"] += 7\n",
        "        stats[\"Endurance\"] += 7\n",
        "        stats[\"Agility\"] += 7\n",
        "        stats[\"Luck\"] += 7\n",
        "        stats[\"Perception\"] -= 3\n",
        "        stats[\"Charisma\"] -= 3\n",
        "        stats[\"Intelligence\"] -= 3\n",
        "        return stats\n",
        "\n",
        "    def get_positive_effects(self):\n",
        "        return self.base.get_positive_effects() + [\"Berserk\"]\n",
        "\n",
        "\n",
        "class Blessing(AbstractPositive):\n",
        "    def get_stats(self):\n",
        "        stats = self.base.get_stats()\n",
        "        stats[\"Strength\"] += 2\n",
        "        stats[\"Endurance\"] += 2\n",
        "        stats[\"Agility\"] += 2\n",
        "        stats[\"Luck\"] += 2\n",
        "        stats[\"Perception\"] += 2\n",
        "        stats[\"Charisma\"] += 2\n",
        "        stats[\"Intelligence\"] += 2\n",
        "        return stats\n",
        "\n",
        "    def get_positive_effects(self):\n",
        "        return self.base.get_positive_effects() + [\"Blessing\"]\n",
        "\n",
        "\n",
        "class Weakness(AbstractNegative):\n",
        "    def get_stats(self):\n",
        "        stats = self.base.get_stats()\n",
        "        stats[\"Strength\"] -= 4\n",
        "        stats[\"Endurance\"] -= 4\n",
        "        stats[\"Agility\"] -= 4\n",
        "        return stats\n",
        "\n",
        "    def get_negative_effects(self):\n",
        "        return self.base.get_negative_effects() + [\"Weakness\"]\n",
        "\n",
        "\n",
        "class Curse(AbstractNegative):\n",
        "    def get_stats(self):\n",
        "        stats = self.base.get_stats()\n",
        "        stats[\"Strength\"] -= 2\n",
        "        stats[\"Endurance\"] -= 2\n",
        "        stats[\"Agility\"] -= 2\n",
        "        stats[\"Luck\"] -= 2\n",
        "        stats[\"Perception\"] -= 2\n",
        "        stats[\"Charisma\"] -= 2\n",
        "        stats[\"Intelligence\"] -= 2\n",
        "        return stats\n",
        "\n",
        "    def get_negative_effects(self):\n",
        "        return self.base.get_negative_effects() + [\"Curse\"]\n",
        "\n",
        "\n",
        "class EvilEye(AbstractNegative):\n",
        "    def get_stats(self):\n",
        "        stats = self.base.get_stats()\n",
        "        stats[\"Luck\"] -= 10\n",
        "        return stats\n",
        "\n",
        "    def get_negative_effects(self):\n",
        "        return self.base.get_negative_effects() + [\"EvilEye\"]"
      ],
      "metadata": {
        "id": "BgbmxriNd2lD"
      },
      "execution_count": 6,
      "outputs": []
    },
    {
      "cell_type": "code",
      "source": [
        "John=Hero()\n",
        "print(John.stats)\n",
        "print(John.get_negative_effects())\n",
        "Ujas=Curse(John)\n",
        "Ujas2=EvilEye(John)\n",
        "print(Ujas.get_stats())\n",
        "print(Ujas.get_negative_effects())\n",
        "print(Ujas2.get_stats())\n",
        "print(Ujas2.get_negative_effects())"
      ],
      "metadata": {
        "colab": {
          "base_uri": "https://localhost:8080/"
        },
        "id": "F0ewiiJ9d-61",
        "outputId": "4b983c3f-5796-465c-be98-a6e9c6e11056"
      },
      "execution_count": 7,
      "outputs": [
        {
          "output_type": "stream",
          "name": "stdout",
          "text": [
            "{'HP': 128, 'MP': 42, 'SP': 100, 'Strength': 15, 'Perception': 4, 'Endurance': 8, 'Charisma': 2, 'Intelligence': 3, 'Agility': 8, 'Luck': 1}\n",
            "[]\n",
            "{'HP': 128, 'MP': 42, 'SP': 100, 'Strength': 13, 'Perception': 2, 'Endurance': 6, 'Charisma': 0, 'Intelligence': 1, 'Agility': 6, 'Luck': -1}\n",
            "['Curse']\n",
            "{'HP': 128, 'MP': 42, 'SP': 100, 'Strength': 15, 'Perception': 4, 'Endurance': 8, 'Charisma': 2, 'Intelligence': 3, 'Agility': 8, 'Luck': -9}\n",
            "['EvilEye']\n"
          ]
        }
      ]
    },
    {
      "cell_type": "markdown",
      "source": [
        "Задача №2\n",
        "Продолжая работу над игрой, вы добрались до системы достижений. Иногда игре нужно наградить игрока за то, что он достигает определенного результата в игре. Это может быть, например, прохождение всех заданий в игре, достижение определенного уровня, совершение какого-то сложного действия и т.д.\n",
        "\n",
        "У каждой игры есть движок и интерфейс пользователя. Это два компонента, которые работают параллельно и взаимодействуют друг с другом. Достижения генерируются движком игры, а отображаются пользовательским интерфейсом. Кроме того, на современных игровых площадках, таких как Steam, Google Play, также отображаются достижения, полученные игроком. Для этого применяется как раз паттерн Наблюдатель.\n",
        "\n",
        "У вас есть движок Engine, который может создавать уведомления о достижениях. Вам необходимо написать обертку над движком, которая будет иметь возможность подписывать наблюдателей и рассылать им уведомления, а также иерархию наблюдателей. В иерархию наблюдателей должны входить абстрактный наблюдатель, AbstractObserver, от которого унаследованы 2 наблюдателя ShortNotificationPrinter и FullNotificationPrinter. Первый из них составляет множество названий полученных достижений, второй составляет список достижений в том порядке, в котором они даны в системе. Имейте в виду, что каждое достижение должно быть учтено только один раз."
      ],
      "metadata": {
        "id": "RtCXdJoUjnfB"
      }
    },
    {
      "cell_type": "code",
      "source": [
        "from abc import ABC, abstractmethod\n",
        "\n",
        "class Hero:\n",
        "    def __init__(self, opit, lvl):\n",
        "        self.stats = {\n",
        "            \"HP\": 10,\n",
        "            \"MP\": 20,\n",
        "            \"SP\": 30,\n",
        "        }\n",
        "        self.opit=opit\n",
        "        self.lvl=lvl\n",
        "    def opit_up(self):\n",
        "      self.opit+=10\n",
        "      return self.opit\n",
        "    def lvl_up(self):\n",
        "      stats=self.get_stats()\n",
        "      self.lvl+=1\n",
        "      stats[\"HP\"]+=10\n",
        "      stats[\"MP\"]+=10\n",
        "      stats[\"SP\"]+=10\n",
        "      return self.lvl, 'уровень', stats\n",
        "    def get_stats(self):\n",
        "        return self.stats.copy()\n",
        "    def can(self):\n",
        "      if John.opit >= 20:\n",
        "        print(John.lvl_up())\n",
        "        ach.subscribe(plushka)\n",
        "        ach.notify(\"Вы заслужили награду! Ваши статы увеличились!\")\n",
        "        print(plushka.achievements)\n",
        "      return \"Так держать!\"\n",
        "class ObservableEngine():\n",
        "    def __init__(self):\n",
        "        self.__subscribers = set()\n",
        "\n",
        "    def subscribe(self, subscriber):\n",
        "        self.__subscribers.add(subscriber)\n",
        "\n",
        "    def unsubscribe(self, subscriber):\n",
        "        self.__subscribers.remove(subscriber)\n",
        "\n",
        "    def notify(self, message):\n",
        "        for subscriber in self.__subscribers:\n",
        "            subscriber.update(message)\n",
        "\n",
        "\n",
        "class AbstractObserver(ABC):\n",
        "    @abstractmethod\n",
        "    def update(self, message):\n",
        "        pass\n",
        "\n",
        "\n",
        "class ShortNotificationPrinter(AbstractObserver):\n",
        "    def __init__(self):\n",
        "        self.achievements = set()\n",
        "\n",
        "    def update(self, message):\n",
        "        self.achievements.add(message)\n",
        "\n",
        "\n",
        "class FullNotificationPrinter(AbstractObserver):\n",
        "    def __init__(self):\n",
        "        self.achievements = list()\n",
        "\n",
        "    def update(self, message):\n",
        "        if message not in self.achievements:\n",
        "            self.achievements.append(message)"
      ],
      "metadata": {
        "id": "jBQMSSuXuioM"
      },
      "execution_count": 33,
      "outputs": []
    },
    {
      "cell_type": "code",
      "source": [
        "ach=ObservableEngine()\n",
        "plushka=FullNotificationPrinter()\n",
        "John=Hero(0,1)\n",
        "print(John.get_stats())\n",
        "print(John.lvl, \"- уровень\")\n",
        "print(John.can())\n",
        "print(John.opit_up())\n",
        "print(John.lvl, \"- уровень\")\n",
        "print(John.can())\n",
        "print(John.opit_up())\n",
        "print(John.can())"
      ],
      "metadata": {
        "colab": {
          "base_uri": "https://localhost:8080/"
        },
        "id": "8jXkd-gAugoc",
        "outputId": "fcb3bca5-9c54-4b12-8eb4-040f1d2f2042"
      },
      "execution_count": 34,
      "outputs": [
        {
          "output_type": "stream",
          "name": "stdout",
          "text": [
            "{'HP': 10, 'MP': 20, 'SP': 30}\n",
            "1 - уровень\n",
            "Так держать!\n",
            "10\n",
            "1 - уровень\n",
            "Так держать!\n",
            "20\n",
            "(2, 'уровень', {'HP': 20, 'MP': 30, 'SP': 40})\n",
            "['Вы заслужили награду! Ваши статы увеличились!']\n",
            "Так держать!\n"
          ]
        }
      ]
    }
  ]
}
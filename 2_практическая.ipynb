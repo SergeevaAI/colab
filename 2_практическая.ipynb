{
  "nbformat": 4,
  "nbformat_minor": 0,
  "metadata": {
    "colab": {
      "name": "2 практическая.ipynb",
      "provenance": [],
      "authorship_tag": "ABX9TyPdpu0m6wjXhPnpjspyauRe",
      "include_colab_link": true
    },
    "kernelspec": {
      "name": "python3",
      "display_name": "Python 3"
    },
    "language_info": {
      "name": "python"
    }
  },
  "cells": [
    {
      "cell_type": "markdown",
      "metadata": {
        "id": "view-in-github",
        "colab_type": "text"
      },
      "source": [
        "<a href=\"https://colab.research.google.com/github/SergeevaAI/colab/blob/main/2_%D0%BF%D1%80%D0%B0%D0%BA%D1%82%D0%B8%D1%87%D0%B5%D1%81%D0%BA%D0%B0%D1%8F.ipynb\" target=\"_parent\"><img src=\"https://colab.research.google.com/assets/colab-badge.svg\" alt=\"Open In Colab\"/></a>"
      ]
    },
    {
      "cell_type": "code",
      "source": [
        "class Person:\n",
        "  def __init__(self, n, s, q=1):\n",
        "    self.name = n\n",
        "    self.surname=s\n",
        "    self.skill=q\n",
        "  def __del__(self):\n",
        "    print(\"До свидания, мистер\", self.name, self.surname)\n",
        "  def info(self):\n",
        "    return \"{0} {1}, {2}\".format(self.name, self.surname, self.skill)\n",
        "worker=Person(\"И\", \"Котов\", 3)\n",
        "helper=Person(\"Д\", \"Мышев\", 1)\n",
        "maker=Person(\"О\", \"Рисов\", 2)\n",
        "print(worker.info())\n",
        "print(helper.info())\n",
        "print(maker.info())\n",
        "del helper\n",
        "print(\"Конец программы\")\n",
        "input()"
      ],
      "metadata": {
        "id": "ik5joxuW9lLN",
        "colab": {
          "base_uri": "https://localhost:8080/",
          "height": 171
        },
        "outputId": "63fa5ea2-1133-4834-9e2d-d80fbf26ff42"
      },
      "execution_count": 2,
      "outputs": [
        {
          "name": "stdout",
          "output_type": "stream",
          "text": [
            "И Котов, 3\n",
            "Д Мышев, 1\n",
            "О Рисов, 2\n",
            "До свидания, мистер Д Мышев\n",
            "Конец программы\n",
            "До свидания, мистер И Котов\n",
            "До свидания, мистер О Рисов\n",
            "\n"
          ]
        },
        {
          "output_type": "execute_result",
          "data": {
            "application/vnd.google.colaboratory.intrinsic+json": {
              "type": "string"
            },
            "text/plain": [
              "''"
            ]
          },
          "metadata": {},
          "execution_count": 2
        }
      ]
    },
    {
      "cell_type": "code",
      "metadata": {
        "colab": {
          "base_uri": "https://localhost:8080/"
        },
        "id": "DO1qK0862Rig",
        "outputId": "3a3edde8-0c05-4108-ab44-beeff87d1f38"
      },
      "source": [
        "class Student:\n",
        "  def __init__(self, name, surname, middle_name, birth_date, gender, number, mail, uni, faculti, specialization, grade, group='АДЭУ-211'):\n",
        "     self.name = name\n",
        "     self.surname = surname\n",
        "     self.middle_name = middle_name\n",
        "     self.birth_date = birth_date\n",
        "     self.gender=gender\n",
        "     self.number = number\n",
        "     self.mail = mail\n",
        "     self.uni= uni\n",
        "     self.faculti = faculti\n",
        "     self.specialization = specialization\n",
        "     self.grade=grade\n",
        "     self.group=group\n",
        "  def __del__(self):\n",
        "    print(\"Отчислен студент\", self.name, self.surname, d[self.grade])\n",
        "  def display(self):\n",
        "    return \"{0} {1} {2}, {3}, {4}, {5}, {6}, {7}, {8}, {9}, {10}, {11}\".format(self.name, self.surname, self.middle_name, self.birth_date, self.gender, self.number, self.mail, self.uni, self.faculti, self.specialization, d[self.grade], self.group)\n",
        "d={2:'Задолжник', 4:'Ударник', 5:'Отличник'} \n",
        "s1=Student('Иван', 'Иванов', 'Иванович','05.10.2002', 'М', '89507036933', 'mimi12@mail.ru', 'МГПУ', 'ИЦО', 'АДЭУ', 5, 'АДЭУ-211')\n",
        "s2=Student('Николай', 'Романов', 'Эдуардович','04.11.2002', 'М', '895299239166', 'mimi13@mail.ru', 'МГПУ', 'ИЦО', 'АДЭУ', 2, 'АДЭУ-211')\n",
        "print(s1.display())\n",
        "print(s2.display())\n",
        "if (s1.grade==5 and s2.grade==5) or (s1.grade==4 and s2.grade==4):\n",
        "  print(\"Молодцы\")\n",
        "elif s1.grade==2:\n",
        "  del s1\n",
        "elif s2.grade==2:\n",
        "  del s2   \n",
        "print(\"Конец программы\")"
      ],
      "execution_count": null,
      "outputs": [
        {
          "output_type": "stream",
          "name": "stdout",
          "text": [
            "Иван Иванов Иванович, 05.10.2002, М, 89507036933, mimi12@mail.ru, МГПУ, ИЦО, АДЭУ, Отличник, АДЭУ-211\n",
            "Николай Романов Эдуардович, 04.11.2002, М, 895299239166, mimi13@mail.ru, МГПУ, ИЦО, АДЭУ, Задолжник, АДЭУ-211\n",
            "Отчислен студент Николай Романов Задолжник\n",
            "Конец программы\n"
          ]
        }
      ]
    }
  ]
}
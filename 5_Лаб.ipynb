{
  "nbformat": 4,
  "nbformat_minor": 0,
  "metadata": {
    "colab": {
      "name": "5 Лаб.ipynb",
      "provenance": [],
      "authorship_tag": "ABX9TyPE2ciB5poIDmtd+nV63EqQ",
      "include_colab_link": true
    },
    "kernelspec": {
      "name": "python3",
      "display_name": "Python 3"
    },
    "language_info": {
      "name": "python"
    }
  },
  "cells": [
    {
      "cell_type": "markdown",
      "metadata": {
        "id": "view-in-github",
        "colab_type": "text"
      },
      "source": [
        "<a href=\"https://colab.research.google.com/github/SergeevaAI/colab/blob/main/5_%D0%9B%D0%B0%D0%B1.ipynb\" target=\"_parent\"><img src=\"https://colab.research.google.com/assets/colab-badge.svg\" alt=\"Open In Colab\"/></a>"
      ]
    },
    {
      "cell_type": "markdown",
      "metadata": {
        "id": "vQcWOVqRxrVe"
      },
      "source": [
        "![лаб 5 1.png](data:image/png;base64,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)"
      ]
    },
    {
      "cell_type": "code",
      "metadata": {
        "colab": {
          "base_uri": "https://localhost:8080/"
        },
        "id": "swE9MkpzBq5G",
        "outputId": "46a3b905-9b94-45ca-ba2f-12f84e97ef22"
      },
      "source": [
        "# Программирование на языке высокого уровня (Python).\n",
        "# https://www.yuripetrov.ru/edu/python\n",
        "# Задание task_05_02_01.\n",
        "#\n",
        "# Выполнила: Сергеева А. И.\n",
        "# Группа: АДЭУ-211\n",
        "# E-mail: SergeevaAI036@mgpu.ru\n",
        "\n",
        "import math\n",
        "def sgn(x):\n",
        "    if x>0:\n",
        "        return 1\n",
        "    elif x==0:\n",
        "        sgnx=0\n",
        "    elif x<0:\n",
        "        return -1\n",
        "def sgn(y):    \n",
        "    if y>0:\n",
        "        return 1\n",
        "    elif y==0:\n",
        "        return 0\n",
        "    elif y<0:\n",
        "        return -1  \n",
        "x = float(input(\"Введите x: \"))\n",
        "y = float(input(\"Введите y: \"))\n",
        "\n",
        "z = (sgn(x)+y**2)/(sgn(y)-math.sqrt(abs(x)))\n",
        "\n",
        "print(\"Ответ:\", round(z, 2))"
      ],
      "execution_count": null,
      "outputs": [
        {
          "output_type": "stream",
          "name": "stdout",
          "text": [
            "Введите x: -9\n",
            "Введите y: 0\n",
            "Ответ: 0.33\n"
          ]
        }
      ]
    },
    {
      "cell_type": "markdown",
      "metadata": {
        "id": "uaZ_NNJUx34s"
      },
      "source": [
        "№ 5.2.2\n",
        "\n",
        "Дан список температурных изменений в течение дня (целые числа). Известно, что измеряющее устройство иногда сбоит и записывает отсутствие температуры (значение None).\n",
        "Выведите среднюю температуру за наблюдаемый промежуток времени, предварительно очистив список от неопределенных значений. Гарантируется, что хотя бы одно определенное значение в списке есть."
      ]
    },
    {
      "cell_type": "code",
      "metadata": {
        "id": "2YW1nb6Kx_84",
        "colab": {
          "base_uri": "https://localhost:8080/"
        },
        "outputId": "ea0fbf19-35ce-4ce2-9254-1591ab3ada51"
      },
      "source": [
        "# Программирование на языке высокого уровня (Python).\n",
        "# https://www.yuripetrov.ru/edu/python\n",
        "# Задание task_05_02_02.\n",
        "#\n",
        "# Выполнила: Сергеева А. И.\n",
        "# Группа: АДЭУ-211\n",
        "# E-mail: SergeevaAI036@mgpu.ru\n",
        "\n",
        "\n",
        "def avg(data):\n",
        "  sum = 0\n",
        "  for a in data:\n",
        "    sum += int(a)\n",
        "  avg_count = sum / len(data)\n",
        "  return avg_count\n",
        "  \n",
        "\n",
        "def cleared_data(data):\n",
        "    for a in data:\n",
        "      if a == None:\n",
        "        data.remove(a)\n",
        "    return data\n",
        "\n",
        "\n",
        "n = int(input('Введите количество измерений: '))\n",
        "\n",
        "data = []\n",
        "for i in range(n):\n",
        "  temp = input('Измерение {}: '.format(i+1))\n",
        "  if temp == \"-\":\n",
        "    temp = None\n",
        "  data.append(temp)\n",
        "cleared_data(data)\n",
        "print(avg(data))\n"
      ],
      "execution_count": null,
      "outputs": [
        {
          "output_type": "stream",
          "name": "stdout",
          "text": [
            "Введите количество измерений: 3\n",
            "Измерение 1: 10\n",
            "Измерение 2: -\n",
            "Измерение 3: 20\n",
            "15.0\n"
          ]
        }
      ]
    },
    {
      "cell_type": "markdown",
      "source": [
        "№ 5.2.3\n",
        "\n",
        "Выведите все счастливые номера билетов в диапазоне от a до b (положительные целые числа, a<b), если известно, что счастливым считается номер, у которого количество четных цифр равно количеству нечетных."
      ],
      "metadata": {
        "id": "3EtIM-5mD0XJ"
      }
    },
    {
      "cell_type": "code",
      "source": [
        "# Программирование на языке высокого уровня (Python).\n",
        "# https://www.yuripetrov.ru/edu/python\n",
        "# Задание task_05_02_03.\n",
        "#\n",
        "# Выполнила: Сергеева А. И.\n",
        "# Группа: АДЭУ-211\n",
        "# E-mail: SergeevaAI036@mgpu.ru\n",
        "\n",
        "def is_lucky(num):\n",
        "  ev=0\n",
        "  od=0\n",
        "  while num>0:\n",
        "    if num%2==0:\n",
        "      ev+=1\n",
        "    else:\n",
        "      od+=1\n",
        "    num=num//10\n",
        "  if ev==od:\n",
        "    return True\n",
        "  else:\n",
        "    return False\n",
        "def lucky_numbers(a, b):\n",
        "    for num in range(a, b + 1):\n",
        "      if is_lucky(num) == True:\n",
        "        print(num, end = ' ')\n",
        "a = int(input('Первый номер билета: '))\n",
        "b = int(input('Последний номер билета: '))\n",
        "lucky_numbers(a, b)\n",
        "\n"
      ],
      "metadata": {
        "colab": {
          "base_uri": "https://localhost:8080/"
        },
        "id": "0_Ir_RfwEDwK",
        "outputId": "f1bbc425-f23b-43b8-a402-b43563fe4b9d"
      },
      "execution_count": null,
      "outputs": [
        {
          "output_type": "stream",
          "name": "stdout",
          "text": [
            "Первый номер билета: 10\n",
            "Последний номер билета: 25\n",
            "10 12 14 16 18 21 23 25 "
          ]
        }
      ]
    },
    {
      "cell_type": "markdown",
      "source": [
        "№ 5.2.4\n",
        "\n",
        "Дата характеризуется тремя натуральными числами: день, месяц и год. Учитывая, что год может быть високосным, реализуйте две функции, которые определяют вчерашнюю и завтрашнюю дату."
      ],
      "metadata": {
        "id": "b15TZ757HXok"
      }
    },
    {
      "cell_type": "code",
      "source": [
        "# Программирование на языке высокого уровня (Python).\n",
        "# https://www.yuripetrov.ru/edu/python\n",
        "# Задание task_05_02_04.\n",
        "#\n",
        "# Выполнила: Сергеева А. И.\n",
        "# Группа: АДЭУ-211\n",
        "# E-mail: SergeevaAI036@mgpu.ru\n",
        "\n",
        "\n",
        "class Data:\n",
        "\n",
        "    def __init__(self, day, month, year):\n",
        "        self.day = day\n",
        "        self.month = month\n",
        "        self.year = year\n",
        "    def leap(self): # функция определения, является ли год високосным\n",
        "      if self.year % 4 == 0:\n",
        "        return True\n",
        "      else:\n",
        "        return False\n",
        "    def previous_date(self):\n",
        "        if self.day != 1:\n",
        "          self.day1 = self.day-1\n",
        "          self.month1=self.month\n",
        "          self.year1=self.year\n",
        "        elif self.day == 1:\n",
        "            self.month1 = self.month-1\n",
        "            self.year1=self.year            \n",
        "            if self.month1 == 1 or self.month1 == 3 or self.month1 == 5 or self.month1 == 7 or self.month1 == 8 or self.month1 == 10:\n",
        "              self.day1 = 31\n",
        "            elif self.month1 == 4 or self.month1 == 6 or self.month1 == 9 or self.month1 == 11:\n",
        "              self.day1 = 30\n",
        "            elif self.month1 ==2:\n",
        "              if self.leap()==True:\n",
        "                self.day1 = 29\n",
        "              else:\n",
        "                self.day1=28\n",
        "            elif self.month1 ==0:\n",
        "              self.day1 = 31\n",
        "              self.month1=12\n",
        "              self.year1=self.year-1\n",
        "        return 'Предыдущий день: {}/{}/{}'.format(self.day1, self.month1, self.year1)\n",
        "    def next_date(self):\n",
        "        if (self.month == 1 or self.month == 3 or self.month == 5 or self.month == 7 or self.month == 8 or self.month == 10) and (self.day==31):\n",
        "          self.day2=1  \n",
        "          self.month2=self.month+1\n",
        "          self.year2=self.year\n",
        "        elif (self.month == 4 or self.month == 6 or self.month == 9 or self.month == 11) and (self.day == 30):\n",
        "          self.day2=1  \n",
        "          self.month2=self.month+1   \n",
        "          self.year2=self.year\n",
        "        elif (self.month ==2) and (self.day == 28 or self.day == 29):  \n",
        "          self.day2=1  \n",
        "          self.month2=self.month+1      \n",
        "          self.year2=self.year\n",
        "        elif (self.month ==12) and (self.day == 31):\n",
        "          self.day2 = 1\n",
        "          self.month2=1\n",
        "          self.year2=self.year+1 \n",
        "        else:\n",
        "          self.day2 =self.day+1 \n",
        "          self.month2=self.month\n",
        "          self.year2=self.year                   \n",
        "        return 'Следующий день: {}/{}/{}'.format(self.day2, self.month2, self.year2)\n",
        "data = Data('','','')\n",
        "data.day = int(input('Введите сегодняшний день: '))\n",
        "data.month = int(input('Введите сегодняшний месяц: '))\n",
        "data.year = int(input('Введите сегодняшний год: '))\n",
        "\n",
        "print(data.previous_date())\n",
        "print(data.next_date())\n",
        "\n"
      ],
      "metadata": {
        "id": "W9SWw-cvFsV5",
        "colab": {
          "base_uri": "https://localhost:8080/"
        },
        "outputId": "07a55b00-3aaf-4ded-ba0a-fee875cf1163"
      },
      "execution_count": null,
      "outputs": [
        {
          "output_type": "stream",
          "name": "stdout",
          "text": [
            "Введите сегодняшний день: 1\n",
            "Введите сегодняшний месяц: 3\n",
            "Введите сегодняшний год: 2000\n",
            "Предыдущий день: 29/2/2000\n",
            "Следующий день: 2/3/2000\n"
          ]
        }
      ]
    },
    {
      "cell_type": "markdown",
      "source": [
        "№ 5.2.5\n",
        "\n",
        "В задаче № 5.2.4 замените функции получения вчерашней и завтрашней даты на одну:\n",
        "\n",
        "def another_date(day, month, year, delta=1):\n",
        "\n",
        "    pass\n",
        "    \n",
        "где delta - ключевой параметр, определяющий сколько дней необходимо добавить или вычесть (если аргумент отрицательный) из переданной даты. Функции, реализованные в задаче № 5.2.4 сделайте локальными для another_date(), вызывая их внутри необходимое количество раз."
      ],
      "metadata": {
        "id": "WpGLowwedQ9e"
      }
    },
    {
      "cell_type": "code",
      "source": [
        "# Программирование на языке высокого уровня (Python).\n",
        "# https://www.yuripetrov.ru/edu/python\n",
        "# Задание task_05_02_05.\n",
        "#\n",
        "# Выполнила: Сергеева А. И.\n",
        "# Группа: АДЭУ-211\n",
        "# E-mail: SergeevaAI036@mgpu.ru\n",
        "\n",
        "\n",
        "class Data:\n",
        "\n",
        "    def __init__(self, day, month, year, delta):\n",
        "        self.day = day\n",
        "        self.month = month\n",
        "        self.year = year\n",
        "        self.delta=delta\n",
        "    def leap(self): # функция определения, является ли год високосным\n",
        "      if self.year % 4 == 0:\n",
        "        return True\n",
        "      else:\n",
        "        return False\n",
        "    def previous_date(self):\n",
        "        if (self.day+self.delta)>0:\n",
        "          self.day1 = self.day+self.delta\n",
        "          self.month1=self.month\n",
        "          self.year1=self.year\n",
        "        elif (self.day+self.delta)<=0:\n",
        "            self.month1 = self.month-1\n",
        "            self.year1=self.year  \n",
        "            self.delta1=self.day+self.delta          \n",
        "            if self.month1 == 1 or self.month1 == 3 or self.month1 == 5 or self.month1 == 7 or self.month1 == 8 or self.month1 == 10:\n",
        "              self.day1 = 31+self.delta1\n",
        "            elif self.month1 == 4 or self.month1 == 6 or self.month1 == 9 or self.month1 == 11:\n",
        "              self.day1 = 30+self.delta1\n",
        "            elif self.month1 ==2:\n",
        "              if self.leap()==True:\n",
        "                self.day1 = 29+self.delta1\n",
        "              else:\n",
        "                self.day1=28+self.delta1\n",
        "            elif self.month1==0:\n",
        "              self.day1 = 31+self.delta1\n",
        "              self.month1=12\n",
        "              self.year1=self.year-1\n",
        "        return 'Предыдущий день: {}/{}/{}'.format(self.day1, self.month1, self.year1)\n",
        "    def next_date(self):\n",
        "        if (self.month == 1 or self.month == 3 or self.month == 5 or self.month == 7 or self.month == 8 or self.month == 10) and (self.day==31):\n",
        "          self.day2=self.delta  \n",
        "          self.month2=self.month+1\n",
        "          self.year2=self.year\n",
        "        elif (self.month == 4 or self.month == 6 or self.month == 9 or self.month == 11) and (self.day == 30):\n",
        "          self.day2=self.delta   \n",
        "          self.month2=self.month+1   \n",
        "          self.year2=self.year\n",
        "        elif (self.month ==2) and (self.day == 28 or self.day == 29):  \n",
        "          self.day2=self.delta   \n",
        "          self.month2=self.month+1      \n",
        "          self.year2=self.year\n",
        "        elif (self.month ==12) and (self.day == 31):\n",
        "          self.day2 = self.delta \n",
        "          self.month2=1\n",
        "          self.year2=self.year+1 \n",
        "        else:\n",
        "          self.day2 =self.day+self.delta  \n",
        "          self.month2=self.month\n",
        "          self.year2=self.year                   \n",
        "        return 'Следующий день: {}/{}/{}'.format(self.day2, self.month2, self.year2)\n",
        "    def another_date(self):\n",
        "      if self.delta<0:\n",
        "        return self.previous_date()\n",
        "      else:\n",
        "        return self.next_date()\n",
        "data = Data('','','', '')\n",
        "data.day = int(input('Введите сегодняшний день: '))\n",
        "data.month = int(input('Введите сегодняшний месяц: '))\n",
        "data.year = int(input('Введите сегодняшний год: '))\n",
        "data.delta = int(input('Свдиг (может быть отрицательным): '))\n",
        "print(data.another_date())"
      ],
      "metadata": {
        "colab": {
          "base_uri": "https://localhost:8080/"
        },
        "id": "P7jDJuEZggbI",
        "outputId": "b1eb04b9-ec58-4bf7-a733-aa8f664623cd"
      },
      "execution_count": null,
      "outputs": [
        {
          "output_type": "stream",
          "name": "stdout",
          "text": [
            "Введите сегодняшний день: 1\n",
            "Введите сегодняшний месяц: 1\n",
            "Введите сегодняшний год: 2000\n",
            "Свдиг (может быть отрицательным): -2\n",
            "Предыдущий день: 30/12/1999\n"
          ]
        }
      ]
    },
    {
      "cell_type": "markdown",
      "source": [
        "№ 5.2.7\n",
        "\n",
        "Даны n предложений. Определите, сколько из них содержат хотя бы одну цифру."
      ],
      "metadata": {
        "id": "MfbfX0dZ86wV"
      }
    },
    {
      "cell_type": "code",
      "source": [
        "# Программирование на языке высокого уровня (Python).\n",
        "# https://www.yuripetrov.ru/edu/python\n",
        "# Задание task_05_02_07.\n",
        "#\n",
        "# Выполнила: Сергеева А. И.\n",
        "# Группа: АДЭУ-211\n",
        "# E-mail: SergeevaAI036@mgpu.ru\n",
        "\n",
        "def has_digits(sentence):\n",
        "    a = False\n",
        "    for i in sentence:\n",
        "      if i.isdigit():\n",
        "        a = True\n",
        "        return a\n",
        "def sentences_with_digits_count(sentences):\n",
        "    b = 0\n",
        "    for sentence in sentences:\n",
        "      if has_digits(sentence):\n",
        "        b += 1\n",
        "    return(print('Предложений с цифрой:',b))\n",
        "n = int(input('Введите количество предложений: '))\n",
        "sentences = []\n",
        "for i in range(1, n+1):\n",
        "  sentences.append(input('Введите предложение № {}: '.format(i)))\n",
        "sentences_with_digits_count(sentences)"
      ],
      "metadata": {
        "id": "8OXmHGaz8_rD",
        "colab": {
          "base_uri": "https://localhost:8080/"
        },
        "outputId": "31341925-97be-439b-ae9d-48005f39217a"
      },
      "execution_count": null,
      "outputs": [
        {
          "output_type": "stream",
          "name": "stdout",
          "text": [
            "Введите количество предложений: 3\n",
            "Введите предложение № 1: Просто текст\n",
            "Введите предложение № 2: Текст с цифрой 5\n",
            "Введите предложение № 3: Цифра 6 в тексте\n",
            "Предложений с цифрой: 2\n"
          ]
        }
      ]
    },
    {
      "cell_type": "markdown",
      "source": [
        "№ 5.2.8\n",
        "\n",
        "Дана строка s и символ k. Реализуйте функцию, рисующую рамку из символа  вокруг данной строки"
      ],
      "metadata": {
        "id": "V8N5XAeg8-Kq"
      }
    },
    {
      "cell_type": "code",
      "source": [
        "# Программирование на языке высокого уровня (Python).\n",
        "# https://www.yuripetrov.ru/edu/python\n",
        "# Задание task_05_02_08.\n",
        "#\n",
        "# Выполнила: Сергеева А. И.\n",
        "# Группа: АДЭУ-211\n",
        "# E-mail: SergeevaAI036@mgpu.ru\n",
        "\n",
        "\n",
        "def print_with_border(string, char):\n",
        "  print(k*(len(s)+2))\n",
        "  print('{}{}{}'.format(k, s, k))\n",
        "  print(k*(len(s)+2))  \n",
        "\n",
        "s = input()\n",
        "k = input()\n",
        "print_with_border(s, k)"
      ],
      "metadata": {
        "id": "AQ8cYI5W-nin",
        "colab": {
          "base_uri": "https://localhost:8080/"
        },
        "outputId": "2217676b-8d14-45b9-c86f-8d37b2c1f238"
      },
      "execution_count": null,
      "outputs": [
        {
          "output_type": "stream",
          "name": "stdout",
          "text": [
            "Просто текст\n",
            "+\n",
            "++++++++++++++\n",
            "+Просто текст+\n",
            "++++++++++++++\n"
          ]
        }
      ]
    },
    {
      "cell_type": "markdown",
      "source": [
        "![111111.png](data:image/png;base64,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)"
      ],
      "metadata": {
        "id": "UJsefxf25GUv"
      }
    },
    {
      "cell_type": "code",
      "source": [
        "# Программирование на языке высокого уровня (Python).\n",
        "# https://www.yuripetrov.ru/edu/python\n",
        "# Задание task_05_02_09.\n",
        "#\n",
        "# Выполнила: Сергеева А. И.\n",
        "# Группа: АДЭУ-211\n",
        "# E-mail: SergeevaAI036@mgpu.ru\n",
        "\n",
        "def to_base(n, base, a):\n",
        "  while n>0:\n",
        "    a=str(n%base)+a\n",
        "    n=n//base\n",
        "  return a\n",
        "def from_base(number, base):\n",
        "  return int(to_base(n, base, a), base)\n",
        "a=''\n",
        "number=input()\n",
        "n=int(number)\n",
        "base=int(input())\n",
        "print(to_base(n, base, a))\n",
        "print(from_base(number, base))"
      ],
      "metadata": {
        "id": "rOBSuVpV5pcs",
        "colab": {
          "base_uri": "https://localhost:8080/"
        },
        "outputId": "2f57bc91-b63e-48d2-b5d9-53251b949b90"
      },
      "execution_count": 32,
      "outputs": [
        {
          "output_type": "stream",
          "name": "stdout",
          "text": [
            "15\n",
            "2\n",
            "1111\n",
            "15\n"
          ]
        }
      ]
    },
    {
      "cell_type": "markdown",
      "source": [
        "№ 5.2.14\n",
        "\n",
        "Напишите функцию, которая принимает неограниченное количество числовых аргументов и возвращает кортеж из двух списков:\n",
        "\n",
        "отрицательных значений (отсортирован по убыванию);\n",
        "\n",
        "неотрицательных значений (отсортирован по возрастанию)."
      ],
      "metadata": {
        "id": "0-gbYthKPNgh"
      }
    },
    {
      "cell_type": "code",
      "source": [
        "# Программирование на языке высокого уровня (Python).\n",
        "# https://www.yuripetrov.ru/edu/python\n",
        "# Задание task_05_02_14.\n",
        "#\n",
        "# Выполнила: Сергеева А. И.\n",
        "# Группа: АДЭУ-211\n",
        "# E-mail: SergeevaAI036@mgpu.ru\n",
        "\n",
        "\n",
        "def split_numbers(*list):\n",
        "  a=[]\n",
        "  b=[]\n",
        "  for i in range(len(list)):\n",
        "    if list[i]<0:\n",
        "      a.append(list[i])\n",
        "    else:\n",
        "      b.append(list[i])\n",
        "    i+=1\n",
        "  a.sort(reverse=True)\n",
        "  b.sort()\n",
        "  return a, b\n",
        "print(split_numbers(1, 4, -5, 0, -33))\n"
      ],
      "metadata": {
        "colab": {
          "base_uri": "https://localhost:8080/"
        },
        "id": "kbM24ZKOPisu",
        "outputId": "ee64622e-f5da-44a6-df45-65dc773b0fec"
      },
      "execution_count": null,
      "outputs": [
        {
          "output_type": "stream",
          "name": "stdout",
          "text": [
            "([-5, -33], [0, 1, 4])\n"
          ]
        }
      ]
    },
    {
      "cell_type": "markdown",
      "source": [
        "№ 5.2.16\n",
        "\n",
        "Составьте две функции для возведения числа в степень: один из вариантов реализуйте в рекурсивном стиле."
      ],
      "metadata": {
        "id": "mSTYAA80cJuD"
      }
    },
    {
      "cell_type": "code",
      "source": [
        "# Программирование на языке высокого уровня (Python).\n",
        "# https://www.yuripetrov.ru/edu/python\n",
        "# Задание task_05_02_16.\n",
        "#\n",
        "# Выполнила: Сергеева А. И.\n",
        "# Группа: АДЭУ-211\n",
        "# E-mail: SergeevaAI036@mgpu.ru\n",
        "\n",
        "\n",
        "def pow1(value, power):\n",
        "  return value**power\n",
        "\n",
        "\n",
        "def pow2(value, power):\n",
        "  if power==1:\n",
        "    return value\n",
        "  else:\n",
        "    return value*pow2(value, power-1)\n",
        "\n",
        "print(pow1(5, 3))\n",
        "print(pow2(5, 3))\n"
      ],
      "metadata": {
        "colab": {
          "base_uri": "https://localhost:8080/"
        },
        "id": "h-mRFHSrcR6V",
        "outputId": "a0d8da65-7995-4381-ef9f-355d5b676665"
      },
      "execution_count": null,
      "outputs": [
        {
          "output_type": "stream",
          "name": "stdout",
          "text": [
            "125\n",
            "125\n"
          ]
        }
      ]
    },
    {
      "cell_type": "markdown",
      "source": [
        "№ 5.2.17\n",
        "\n",
        "Дано натуральное число. Напишите рекурсивные функции для определения:\n",
        "\n",
        "суммы цифр числа;\n",
        "\n",
        "количества цифр в числе."
      ],
      "metadata": {
        "id": "GBVry_p5dW4Q"
      }
    },
    {
      "cell_type": "code",
      "source": [
        "# Программирование на языке высокого уровня (Python).\n",
        "# https://www.yuripetrov.ru/edu/python\n",
        "# Задание task_05_02_17.\n",
        "#\n",
        "# Выполнила: Сергеева А. И.\n",
        "# Группа: АДЭУ-211\n",
        "# E-mail: SergeevaAI036@mgpu.ru\n",
        "\n",
        "\n",
        "def digits_sum(value):\n",
        "  if value==0:\n",
        "    return 0\n",
        "  else:\n",
        "    return value%10+digits_sum(value//10)\n",
        "\n",
        "def digits_count(value):\n",
        "    count = 0\n",
        "    if value > 0:\n",
        "      return 1 + digits_count(value//10)\n",
        "    else:\n",
        "      return 0\n",
        "print(digits_sum(12345))\n",
        "print(digits_count(12345))\n"
      ],
      "metadata": {
        "colab": {
          "base_uri": "https://localhost:8080/"
        },
        "id": "l-GEF-mpdYGE",
        "outputId": "1649b1b4-279f-46f2-bea5-4c3e1654fba7"
      },
      "execution_count": 14,
      "outputs": [
        {
          "output_type": "stream",
          "name": "stdout",
          "text": [
            "15\n",
            "5\n"
          ]
        }
      ]
    }
  ]
}
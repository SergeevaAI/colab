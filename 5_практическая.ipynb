{
  "nbformat": 4,
  "nbformat_minor": 0,
  "metadata": {
    "colab": {
      "name": "5 практическая.ipynb",
      "provenance": [],
      "authorship_tag": "ABX9TyMyzUq0pn9zOGVNR0PfZzIB",
      "include_colab_link": true
    },
    "kernelspec": {
      "name": "python3",
      "display_name": "Python 3"
    },
    "language_info": {
      "name": "python"
    }
  },
  "cells": [
    {
      "cell_type": "markdown",
      "metadata": {
        "id": "view-in-github",
        "colab_type": "text"
      },
      "source": [
        "<a href=\"https://colab.research.google.com/github/SergeevaAI/colab/blob/main/5_%D0%BF%D1%80%D0%B0%D0%BA%D1%82%D0%B8%D1%87%D0%B5%D1%81%D0%BA%D0%B0%D1%8F.ipynb\" target=\"_parent\"><img src=\"https://colab.research.google.com/assets/colab-badge.svg\" alt=\"Open In Colab\"/></a>"
      ]
    },
    {
      "cell_type": "code",
      "metadata": {
        "colab": {
          "base_uri": "https://localhost:8080/"
        },
        "id": "lzTQOK677kJY",
        "outputId": "c6b59132-6218-450d-9f56-a128d98ef447"
      },
      "source": [
        "import math\n",
        "class Win_Door:\n",
        "  def __init__(self, x, y):\n",
        "    self.square=x*y\n",
        "class Room:\n",
        "  def __init__(self, x, y, z):\n",
        "    self.square=2*z*(x+y)\n",
        "    self.wd=[]\n",
        "  def addwd(self, w, h):\n",
        "    self.wd.append(Win_Door(w, h))\n",
        "  def workSurface(self):\n",
        "    new_square=self.square\n",
        "    for i in self.wd:\n",
        "      new_square-=i.square\n",
        "    return new_square\n",
        "  def wallpaper(self, wallpaper_length, wallpaper_width):\n",
        "    return math.ceil(self.workSurface()/(wallpaper_length*wallpaper_width))\n",
        "r1=Room(6, 3, 2.7)\n",
        "print(r1.square)\n",
        "r1.addwd(1, 1)\n",
        "r1.addwd(1, 1)\n",
        "r1.addwd(1, 2)\n",
        "print(r1.workSurface())\n",
        "print(\"Количество рулонов обоев: \", r1.wallpaper(10.05, 0.53))"
      ],
      "execution_count": 1,
      "outputs": [
        {
          "output_type": "stream",
          "name": "stdout",
          "text": [
            "48.6\n",
            "44.6\n",
            "Количество рулонов обоев:  9\n"
          ]
        }
      ]
    }
  ]
}
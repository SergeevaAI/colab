{
  "nbformat": 4,
  "nbformat_minor": 0,
  "metadata": {
    "colab": {
      "name": "lab 7.ipynb",
      "provenance": [],
      "authorship_tag": "ABX9TyPcUnbtU4mosVi939HDLzUH",
      "include_colab_link": true
    },
    "kernelspec": {
      "name": "python3",
      "display_name": "Python 3"
    },
    "language_info": {
      "name": "python"
    }
  },
  "cells": [
    {
      "cell_type": "markdown",
      "metadata": {
        "id": "view-in-github",
        "colab_type": "text"
      },
      "source": [
        "<a href=\"https://colab.research.google.com/github/SergeevaAI/colab/blob/main/lab_7.ipynb\" target=\"_parent\"><img src=\"https://colab.research.google.com/assets/colab-badge.svg\" alt=\"Open In Colab\"/></a>"
      ]
    },
    {
      "cell_type": "code",
      "execution_count": 12,
      "metadata": {
        "id": "9iao1KW6zCn4",
        "colab": {
          "base_uri": "https://localhost:8080/"
        },
        "outputId": "f33751de-3407-458a-fa47-e3b835ffa449"
      },
      "outputs": [
        {
          "output_type": "execute_result",
          "data": {
            "text/plain": [
              "11"
            ]
          },
          "metadata": {},
          "execution_count": 12
        }
      ],
      "source": [
        "# Программирование на языке высокого уровня (Python).\n",
        "# https://www.yuripetrov.ru/edu/python\n",
        "# Задание task_07_02_01.\n",
        "#\n",
        "# Выполнилa: Сергеева А. И.\n",
        "# Группа: АДЭУ-211\n",
        "# E-mail: SergeevaAI036@mgpu.ru\n",
        "\n",
        "\n",
        "\"\"\"\n",
        "Ошибки (номера строк через пробел, данная строка - №2): 11, 13, 15\n",
        "\"\"\"\n",
        "\n",
        "def sum_of_digits(n):\n",
        "    \"\"\"Вернуть сумму цифр меньших 5 для положительного целого числа `n`.\n",
        "    Если таких цифр нет, вернуть 0.\"\"\"\n",
        "    c=0\n",
        "    while n > 0:\n",
        "        digit = n % 10 # деление нацело не помогает выделить одну цифру числа, поэтому считаем остаток\n",
        "        if digit < 5:\n",
        "           c += digit # счёт суммы цифр должен быть\n",
        "        n //= 10\n",
        "    return c # вывод не суммы, а числа был\n",
        "\n",
        "sum_of_digits(344)"
      ]
    },
    {
      "cell_type": "code",
      "source": [
        "# Программирование на языке высокого уровня (Python).\n",
        "# https://www.yuripetrov.ru/edu/python\n",
        "# Задание task_07_02_02.\n",
        "#\n",
        "# Выполнилa: Сергеева А. И.\n",
        "# Группа: АДЭУ-211\n",
        "# E-mail: SergeevaAI036@mgpu.ru\n",
        "\n",
        "\n",
        "\"\"\"\n",
        "Ошибки (номера строк через пробел, данная строка - №2): 10, добавлены 16, 17 строчки\n",
        "\"\"\"\n",
        "\n",
        "\n",
        "def primes(a, b):\n",
        "    \"\"\"Вернуть список простых чисел на отрезке от 'a' до 'b'.\"\"\"\n",
        "    res = []\n",
        "    c = 0\n",
        "    for i in range(a, b+1): # нужно было увеличить интервал до b, поэтому плюсуем 1\n",
        "        for j in range(i):\n",
        "            if i % (j + 1) == 0:\n",
        "                c += 1\n",
        "        if c == 2:\n",
        "           res.append(i)\n",
        "        else:\n",
        "           c=0           \n",
        "    return res\n",
        "primes(10, 20)"
      ],
      "metadata": {
        "colab": {
          "base_uri": "https://localhost:8080/"
        },
        "id": "EMWsbVBO6LfO",
        "outputId": "5325b915-3639-4db1-89a1-89e42c67db8b"
      },
      "execution_count": null,
      "outputs": [
        {
          "output_type": "execute_result",
          "data": {
            "text/plain": [
              "[11, 13, 17, 19]"
            ]
          },
          "metadata": {},
          "execution_count": 2
        }
      ]
    },
    {
      "cell_type": "code",
      "source": [
        "# Программирование на языке высокого уровня (Python).\n",
        "# https://www.yuripetrov.ru/edu/python\n",
        "# Задание task_07_02_03.\n",
        "#\n",
        "# Выполнилa: Сергеева А. И.\n",
        "# Группа: АДЭУ-211\n",
        "# E-mail: SergeevaAI036@mgpu.ru\n",
        "\n",
        "\n",
        "\"\"\"\n",
        "Ошибки (номера строк через пробел, данная строка - №2): 23, 24, добавлены строчки 26, 27\n",
        "\"\"\"\n",
        "\n",
        "\n",
        "def first_vacant_row(seats):\n",
        "    \"\"\"Вернуть первый ряд, в котором имеется больше всего\n",
        "    свободных мест и их количество.\n",
        "\n",
        "    Возвращаемая нумерация рядов с 1. Если свободных мест нет, вернуть 0, 0.\n",
        "\n",
        "    Параметры:\n",
        "        - seats (list of list): информация о проданных билетах\n",
        "                                (1 - продано, 0 - нет).\n",
        "\n",
        "    Результат:\n",
        "        - tuple (ряд, количество мест).\n",
        "    \"\"\"\n",
        "    max_count = 0\n",
        "    max_row = 0\n",
        "    for row_index, row in enumerate(seats):\n",
        "        available_seats_count = row.count(0)  # 0 - пусто\n",
        "        if available_seats_count > max_count:\n",
        "            max_row = 1+row_index\n",
        "            max_count = available_seats_count\n",
        "        else: # пропуск ряда с равными или меньшими свободными местами\n",
        "          pass\n",
        "\n",
        "    return max_row, max_count\n",
        "\n",
        "import random\n",
        "#\n",
        "random.seed(50)\n",
        "#\n",
        "ROWS_MAX = 10\n",
        "SEATS_MAX = 5\n",
        "#\n",
        "seats = [[random.randint(0, 1) for seat in range(SEATS_MAX)]\n",
        "                               for row in range(ROWS_MAX)]\n",
        "#\n",
        "for seat in seats:\n",
        "    print(seat)\n",
        "#\n",
        "print(first_vacant_row(seats))\n"
      ],
      "metadata": {
        "colab": {
          "base_uri": "https://localhost:8080/"
        },
        "id": "hqMwLxWndRUn",
        "outputId": "d01a8d29-23a6-4179-eeb9-5eabc9ec3342"
      },
      "execution_count": null,
      "outputs": [
        {
          "output_type": "stream",
          "name": "stdout",
          "text": [
            "[1, 1, 1, 0, 1]\n",
            "[1, 0, 1, 0, 0]\n",
            "[0, 1, 0, 1, 1]\n",
            "[0, 0, 0, 1, 1]\n",
            "[0, 0, 1, 1, 0]\n",
            "[0, 1, 1, 1, 0]\n",
            "[0, 1, 1, 1, 0]\n",
            "[1, 0, 0, 1, 0]\n",
            "[1, 1, 0, 1, 1]\n",
            "[0, 1, 0, 0, 1]\n",
            "(2, 3)\n"
          ]
        }
      ]
    },
    {
      "cell_type": "code",
      "source": [
        "# Программирование на языке высокого уровня (Python).\n",
        "# https://www.yuripetrov.ru/edu/python\n",
        "# Задание task_07_02_04.\n",
        "#\n",
        "# Выполнилa: Сергеева А. И.\n",
        "# Группа: АДЭУ-211\n",
        "# E-mail: SergeevaAI036@mgpu.ru\n",
        "\n",
        "\n",
        "\"\"\"\n",
        "Ошибки (номера строк через пробел, данная строка - №2): 8, 9, 10, 12\n",
        "\"\"\"\n",
        "\n",
        "\n",
        "def min_pair(nums):\n",
        "    \"\"\"Вернуть минимальную сумму соседних 2-х чисел в списке 'nums'.\"\"\"\n",
        "    a = nums[0] + nums[1]\n",
        "    for i in range(2, len(nums)-1):\n",
        "        a = min(nums[i] + nums[i + 1], a) # было много min, переименовала на а\n",
        "\n",
        "    return a\n",
        "\n",
        "import random\n",
        "# \n",
        "random.seed(50)\n",
        "#\n",
        "N_MAX = 10\n",
        "RANGE_MIN = 1\n",
        "RANGE_MAX = 100\n",
        "nums = random.sample(range(RANGE_MIN, RANGE_MAX), N_MAX)\n",
        "#\n",
        "print(nums)\n",
        "#\n",
        "print(min_pair(nums))\n"
      ],
      "metadata": {
        "colab": {
          "base_uri": "https://localhost:8080/"
        },
        "id": "xthMS3ZofIuD",
        "outputId": "014eac62-55d7-4f98-d741-1456e338ae09"
      },
      "execution_count": 3,
      "outputs": [
        {
          "output_type": "stream",
          "name": "stdout",
          "text": [
            "[64, 35, 47, 82, 32, 89, 61, 99, 43, 11]\n",
            "54\n"
          ]
        }
      ]
    },
    {
      "cell_type": "code",
      "source": [
        "# Программирование на языке высокого уровня (Python).\n",
        "# https://www.yuripetrov.ru/edu/python\n",
        "# Задание task_07_02_05.\n",
        "#\n",
        "# Выполнилa: Сергеева А. И.\n",
        "# Группа: АДЭУ-211\n",
        "# E-mail: SergeevaAI036@mgpu.ru\n",
        "\n",
        "\n",
        "\"\"\"\n",
        "Ошибки (номера строк через пробел, данная строка - №2): добавлена 9 строка, исправлены 11,12, 13, 14\n",
        "\"\"\"\n",
        "\n",
        "\n",
        "def non_negatives(nums):\n",
        "    \"\"\"Удалить из списка чисел 'nums' отрицательные элементы и вернуть\n",
        "    измененный список.\"\"\"\n",
        "    a=[]\n",
        "    for i in range(len(nums)):\n",
        "        if nums[i] >= 0: # длина списка меняется из-за удаления, но в функции for нет, поэтому создаётся новый список, куда вносятся неотриц. значения\n",
        "          a.append(nums[i])\n",
        "        i+=1\n",
        "    return a\n",
        "\n",
        "import random\n",
        "#\n",
        "n = 10\n",
        "nums = [round(random.uniform(-10, 10), 2) for i in range(n)]\n",
        "print(nums)\n",
        "#\n",
        "print(non_negatives(nums))\n"
      ],
      "metadata": {
        "colab": {
          "base_uri": "https://localhost:8080/"
        },
        "id": "C_9rijgcrTip",
        "outputId": "5879b2be-21f4-48fa-f990-55683f04a496"
      },
      "execution_count": 4,
      "outputs": [
        {
          "output_type": "stream",
          "name": "stdout",
          "text": [
            "[8.24, -4.1, -5.81, -5.07, -8.11, -6.76, -5.9, 9.58, 3.53, 5.75]\n",
            "[8.24, 9.58, 3.53, 5.75]\n"
          ]
        }
      ]
    },
    {
      "cell_type": "code",
      "source": [
        "# Программирование на языке высокого уровня (Python).\n",
        "# https://www.yuripetrov.ru/edu/python\n",
        "# Задание task_07_02_06.\n",
        "#\n",
        "# Выполнилa: Сергеева А. И.\n",
        "# Группа: АДЭУ-211\n",
        "# E-mail: SergeevaAI036@mgpu.ru\n",
        "\n",
        "\n",
        "\"\"\"\n",
        "Ошибки (номера строк через пробел, данная строка - №2): 17, 18\n",
        "\"\"\"\n",
        "\n",
        "\n",
        "def unemployment_rate(unemployed, employed):\n",
        "    \"\"\"Вернуть уровень безработицы (УБ) в долях 1.\n",
        "\n",
        "       Расчет по формуле: УБ = Безработные / (Занятые + Безработные).\n",
        "    \"\"\"\n",
        "    if unemployed > 0 and employed>0:\n",
        "      return unemployed / (unemployed + employed)\n",
        "    else:\n",
        "      raise ValueError('Введите положительные числа')\n",
        "\n",
        "try:\n",
        "  unemployed = int(input(\"Введите кол-во безработных (чел.): \"))\n",
        "  employed = int(input(\"Введите кол-во занятых (чел.): \"))\n",
        "  rate = unemployment_rate(unemployed, employed)\n",
        "  print(\"Уровень безработицы = {:.1%}\".format(rate))\n",
        "except ValueError as err:\n",
        "  print(\"Произошла ошибка!\")\n",
        "  print(\"Тип:\", type(err))\n",
        "  print(\"Описание:\", err)\n"
      ],
      "metadata": {
        "colab": {
          "base_uri": "https://localhost:8080/"
        },
        "id": "eFo3687-lnGv",
        "outputId": "848acb5b-ddbe-4d9d-e583-49435711f96e"
      },
      "execution_count": 9,
      "outputs": [
        {
          "output_type": "stream",
          "name": "stdout",
          "text": [
            "Введите кол-во безработных (чел.): -1\n",
            "Введите кол-во занятых (чел.): 4\n",
            "Произошла ошибка!\n",
            "Тип: <class 'ValueError'>\n",
            "Описание: Введите положительные числа\n"
          ]
        }
      ]
    },
    {
      "cell_type": "code",
      "source": [
        "# Программирование на языке высокого уровня (Python).\n",
        "# https://www.yuripetrov.ru/edu/python\n",
        "# Задание task_07_02_07.\n",
        "#\n",
        "# Выполнилa: Сергеева А. И.\n",
        "# Группа: АДЭУ-211\n",
        "# E-mail: SergeevaAI036@mgpu.ru\n",
        "\n",
        "\n",
        "\"\"\"\n",
        "Ошибки (номера строк через пробел, данная строка - №2): 9, 10\n",
        "\"\"\"\n",
        "\n",
        "\n",
        "def power(x, y=2):\n",
        "    \"\"\"Вернуть x^y.\"\"\"\n",
        "    if y == 0:\n",
        "        return 1\n",
        "    else:\n",
        "        return x * power(x, y - 1)\n",
        "\n",
        "try:\n",
        "  x = int(input(\"x=\"))\n",
        "  y = int(input(\"y=\"))\n",
        "  print(power(x, y))\n",
        "except Exception as err:\n",
        "    print(\"Произошла ошибка!\")\n",
        "    print(\"Тип:\", type(err))\n",
        "    print(\"Описание:\", err)"
      ],
      "metadata": {
        "colab": {
          "base_uri": "https://localhost:8080/"
        },
        "id": "QJuaqjC-ptib",
        "outputId": "32c20862-ba2f-45cc-b169-b51f079a8297"
      },
      "execution_count": 13,
      "outputs": [
        {
          "output_type": "stream",
          "name": "stdout",
          "text": [
            "x=nokia\n",
            "Произошла ошибка!\n",
            "Тип: <class 'ValueError'>\n",
            "Описание: invalid literal for int() with base 10: 'nokia'\n"
          ]
        }
      ]
    }
  ]
}
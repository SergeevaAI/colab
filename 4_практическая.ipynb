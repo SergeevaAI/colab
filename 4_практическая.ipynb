{
  "nbformat": 4,
  "nbformat_minor": 0,
  "metadata": {
    "colab": {
      "name": "4 практическая.ipynb",
      "provenance": [],
      "authorship_tag": "ABX9TyNqhzEV20RqODRrMiif65mb",
      "include_colab_link": true
    },
    "kernelspec": {
      "name": "python3",
      "display_name": "Python 3"
    },
    "language_info": {
      "name": "python"
    }
  },
  "cells": [
    {
      "cell_type": "markdown",
      "metadata": {
        "id": "view-in-github",
        "colab_type": "text"
      },
      "source": [
        "<a href=\"https://colab.research.google.com/github/SergeevaAI/colab/blob/main/4_%D0%BF%D1%80%D0%B0%D0%BA%D1%82%D0%B8%D1%87%D0%B5%D1%81%D0%BA%D0%B0%D1%8F.ipynb\" target=\"_parent\"><img src=\"https://colab.research.google.com/assets/colab-badge.svg\" alt=\"Open In Colab\"/></a>"
      ]
    },
    {
      "cell_type": "markdown",
      "metadata": {
        "id": "9jyUxcANNFxb"
      },
      "source": [
        "![Безымянный.png](data:image/png;base64,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)"
      ]
    },
    {
      "cell_type": "code",
      "metadata": {
        "colab": {
          "base_uri": "https://localhost:8080/"
        },
        "id": "7UZUc0M-8Mkv",
        "outputId": "2c5d981f-4a16-47ad-9359-127c0696b6be"
      },
      "source": [
        "class State:\n",
        "  def __init__(self, name, head_of_government, square, population, view, formation_government, power):\n",
        "    self.name = name\n",
        "    self.head_of_government = head_of_government\n",
        "    self.square = square\n",
        "    self.population = population\n",
        "    self.view = view\n",
        "    self.formation_government = formation_government\n",
        "    self.power = power\n",
        "  def density(self):\n",
        "    return self.population/self.square\n",
        "  def canc1(self):\n",
        "    if self.power =='наследственная':\n",
        "      self.view='монархия'\n",
        "    else:\n",
        "      self.view='республика'\n",
        "    return self.view\n",
        "  def __str__(self):\n",
        "    return ('Государство: {}, плотность: {}, власть: {}, вид: {}'.format(self.name, self.density(), self.power, self.canc1()))\n",
        "\n",
        "class Republic(State):\n",
        "  def __init__(self, name, head_of_government, square, population, view, formation_government, power, president):\n",
        "    super().__init__(name, head_of_government, square, population, view, formation_government, power)    \n",
        "    self.president = 'президент'\n",
        "  def canc(self):\n",
        "    if self.head_of_government=='президент' and self.formation_government=='президент':\n",
        "      return 'тип: президентская'\n",
        "    elif self.head_of_government=='премьер-министр' and self.formation_government=='парламент':\n",
        "      return 'тип: парламентская'\n",
        "    else:\n",
        "      return 'тип: смешанная'\n",
        "  def head1(self):\n",
        "    return 'Глава государства: {}'.format(self.president)\n",
        "\n",
        "class Monarchy(State):\n",
        "  def __init__(self, name, head_of_government, square, population, view, formation_government, power, monarch): \n",
        "    super(). __init__(name, head_of_government, square, population, view, formation_government, power)     \n",
        "    self.monarch = 'монарх'\n",
        "  def canc(self):\n",
        "    if self.head_of_government=='монарх':\n",
        "      return 'тип: абсолютная'\n",
        "    else:\n",
        "      return 'тип: конституционная'\n",
        "\n",
        "  def head1(self):\n",
        "    return 'Глава государства: {}'.format(self.monarch)\n",
        "\n",
        "class Kingdom(Monarchy):\n",
        "  def __init__(self, name, head_of_governmen, square, population, view, formation_government, power, monarch, king): \n",
        "    super().__init__(name, head_of_governmen, square, population, view, formation_government, power, monarch)     \n",
        "    self.king = \"король\"\n",
        "  def canc(self):\n",
        "    return 'тип: конституционная монархия'\n",
        "  def head1(self):\n",
        "    return 'Глава государства: {}'.format(self.king)\n",
        "\n",
        "a=State('', '', '', '', '', '', '')\n",
        "a.name=input(\"Введите название государства: \")\n",
        "a.head_of_government=input(\"Введите главу правительства: \")\n",
        "a.square=float(input(\"Введите площадь: \"))\n",
        "a.population=int(input(\"Численность населения: \"))\n",
        "a.power=input(\"Введите тип власти(наследственная или выборная): \")\n",
        "a.formation_government=input(\"За формирование правительства отвечает: \")\n",
        "print(a)\n",
        "\n",
        "a1=Republic('', '', '', '', '', '', '', '')\n",
        "a1.name=input(\"Введите название государства: \")\n",
        "a1.head_of_government=input(\"Введите главу правительства: \")\n",
        "a1.square=float(input(\"Введите площадь: \"))\n",
        "a1.population=int(input(\"Численность населения: \"))\n",
        "a1.power=input(\"Введите тип власти(наследственная или выборная): \")\n",
        "a1.formation_government=input(\"За формирование правительства отвечает: \")\n",
        "print(a1)\n",
        "print(a1.canc())\n",
        "print(a1.head1())\n",
        "\n",
        "a2=Monarchy('', '', '', '', '', '', '', '')\n",
        "a2.name=input(\"Введите название государства: \")\n",
        "a2.head_of_government=input(\"Введите главу правительства: \")\n",
        "a2.square=float(input(\"Введите площадь: \"))\n",
        "a2.population=int(input(\"Численность населения: \"))\n",
        "a2.power=input(\"Введите тип власти(наследственная или выборная): \")\n",
        "a2.formation_government=input(\"За формирование правительства отвечает: \")\n",
        "print(a2)\n",
        "print(a2.canc())\n",
        "print(a2.head1())\n",
        "\n",
        "a3=Kingdom('', '', '', '', '', '', '', '', '')\n",
        "a3.name=input(\"Введите название государства: \")\n",
        "a3.head_of_government=input(\"Введите главу правительства: \")\n",
        "a3.square=float(input(\"Введите площадь: \"))\n",
        "a3.population=int(input(\"Численность населения: \"))\n",
        "a3.power=input(\"Введите тип власти(наследственная или выборная): \")\n",
        "a3.formation_government=input(\"За формирование правительства отвечает: \")\n",
        "print(a3)\n",
        "print(a3.canc())\n",
        "print(a3.head1())"
      ],
      "execution_count": 7,
      "outputs": [
        {
          "output_type": "stream",
          "name": "stdout",
          "text": [
            "Введите название государства: Россия\n",
            "Введите главу правительства: премьер-министр\n",
            "Введите площадь: 17098246\n",
            "Численность населения: 145975300\n",
            "Введите тип власти(наследственная или выборная): выборная\n",
            "За формирование правительства отвечает: президент совместно с парламентом\n",
            "Государство: Россия, плотность: 8.53744296344783, власть: выборная, вид: республика\n",
            "Введите название государства: США\n",
            "Введите главу правительства: президент\n",
            "Введите площадь: 9826675\n",
            "Численность населения: 332278200\n",
            "Введите тип власти(наследственная или выборная): выборная\n",
            "За формирование правительства отвечает: президент\n",
            "Государство: США, плотность: 33.8138994115507, власть: выборная, вид: республика\n",
            "тип: президентская\n",
            "Глава государства: президент\n",
            "Введите название государства: Великобритания\n",
            "Введите главу правительства: премьер-министр\n",
            "Введите площадь: 242495\n",
            "Численность населения: 67886004\n",
            "Введите тип власти(наследственная или выборная): наследственная\n",
            "За формирование правительства отвечает: парламент\n",
            "Государство: Великобритания, плотность: 279.9480566609621, власть: наследственная, вид: монархия\n",
            "тип: конституционная\n",
            "Глава государства: монарх\n",
            "Введите название государства: Бельгия\n",
            "Введите главу правительства: премьер-министр\n",
            "Введите площадь: 30528\n",
            "Численность населения: 11400000\n",
            "Введите тип власти(наследственная или выборная): наследственная\n",
            "За формирование правительства отвечает: парламент\n",
            "Государство: Бельгия, плотность: 373.42767295597486, власть: наследственная, вид: монархия\n",
            "тип: конституционная монархия\n",
            "Глава государства: король\n"
          ]
        }
      ]
    }
  ]
}
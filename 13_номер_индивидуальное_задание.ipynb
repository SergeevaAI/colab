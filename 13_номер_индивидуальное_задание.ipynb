{
  "nbformat": 4,
  "nbformat_minor": 0,
  "metadata": {
    "colab": {
      "name": "13 номер индивидуальное задание.ipynb",
      "provenance": [],
      "authorship_tag": "ABX9TyNxmbnd1k7zElwgwozJylZv",
      "include_colab_link": true
    },
    "kernelspec": {
      "name": "python3",
      "display_name": "Python 3"
    },
    "language_info": {
      "name": "python"
    }
  },
  "cells": [
    {
      "cell_type": "markdown",
      "metadata": {
        "id": "view-in-github",
        "colab_type": "text"
      },
      "source": [
        "<a href=\"https://colab.research.google.com/github/SergeevaAI/colab/blob/main/13_%D0%BD%D0%BE%D0%BC%D0%B5%D1%80_%D0%B8%D0%BD%D0%B4%D0%B8%D0%B2%D0%B8%D0%B4%D1%83%D0%B0%D0%BB%D1%8C%D0%BD%D0%BE%D0%B5_%D0%B7%D0%B0%D0%B4%D0%B0%D0%BD%D0%B8%D0%B5.ipynb\" target=\"_parent\"><img src=\"https://colab.research.google.com/assets/colab-badge.svg\" alt=\"Open In Colab\"/></a>"
      ]
    },
    {
      "cell_type": "code",
      "metadata": {
        "id": "sb7nol9iInqr",
        "colab": {
          "base_uri": "https://localhost:8080/"
        },
        "outputId": "a42b3a98-a9e3-4182-c4be-09b747ce97bb"
      },
      "source": [
        "class State:\n",
        "  def __init__(self, name, head_of_government, square, population, view, formation_government, regim):\n",
        "    self.name = name\n",
        "    self.head_of_government = head_of_government\n",
        "    self.square = square\n",
        "    self.population = population\n",
        "    self.view = view\n",
        "    self.formation_government = formation_government\n",
        "    self.regim = regim\n",
        "  def density(self):\n",
        "    return self.population/self.square\n",
        "  def canc1(self):\n",
        "    if self.regim =='тоталитарный':\n",
        "      self.view='монархия'\n",
        "    else:\n",
        "      self.view='республика'\n",
        "    return self.view\n",
        "  def __str__(self):\n",
        "    return ('Государство: {}, плотность: {}, режим: {}, вид: {}, тип {}, глава государства: {}'.format(self.name, self.density(), self.regim, self.canc1(), self.canc(), self.head1()))\n",
        "\n",
        "class Republic(State):\n",
        "  def __init__(self, name, head_of_government, square, population, view, formation_government, regim, president):\n",
        "    super().__init__(name, head_of_government, square, population, view, formation_government, regim)    \n",
        "    self.president = 'президент'\n",
        "  def canc(self):\n",
        "    if self.head_of_government=='президент' and self.formation_government=='президент':\n",
        "      return 'президентская'\n",
        "    elif self.head_of_government=='премьер-министр' and self.formation_government=='парламент':\n",
        "      return 'парламентская'\n",
        "    else:\n",
        "      return 'смешанная'\n",
        "  def head1(self):\n",
        "    return self.president\n",
        "\n",
        "class Monarchy(State):\n",
        "  def __init__(self, name, head_of_government, square, population, view, formation_government, regim, monarch): \n",
        "    super(). __init__(name, head_of_government, square, population, view, formation_government, regim)     \n",
        "    self.monarch = 'монарх'\n",
        "  def canc(self):\n",
        "    if self.head_of_government=='монарх':\n",
        "      return 'абсолютная'\n",
        "    else:\n",
        "      return 'конституционная'\n",
        "\n",
        "  def head1(self):\n",
        "    return self.monarch\n",
        "\n",
        "class Kingdom(Monarchy):\n",
        "  def __init__(self, name, head_of_governmen, square, population, view, formation_government, regim, monarch, king): \n",
        "    super().__init__(name, head_of_governmen, square, population, view, formation_government, regim, monarch)     \n",
        "    self.king = \"король\"\n",
        "  def canc(self):\n",
        "    return 'конституционная монархия'\n",
        "    return self.view\n",
        "  def head1(self):\n",
        "    return self.king\n",
        "\n",
        "a1=Republic('', '', '', '', '', '', '', '')\n",
        "a1.name=input(\"Введите название государства: \")\n",
        "a1.head_of_government=input(\"Введите главу правительства: \")\n",
        "a1.square=float(input(\"Введите площадь: \"))\n",
        "a1.population=int(input(\"Численность населения: \"))\n",
        "a1.regim=input(\"Введите режим: \")\n",
        "a1.formation_government=input(\"За формирование правительства отвечает: \")\n",
        "print(a1)\n",
        "\n",
        "a2=Monarchy('', '', '', '', '', '', '', '')\n",
        "a2.name=input(\"Введите название государства: \")\n",
        "a2.head_of_government=input(\"Введите главу правительства: \")\n",
        "a2.square=float(input(\"Введите площадь: \"))\n",
        "a2.population=int(input(\"Численность населения: \"))\n",
        "a2.regim=input(\"Введите режим: \")\n",
        "a2.formation_government=input(\"За формирование правительства отвечает: \")\n",
        "print(a2)\n",
        "a3=Kingdom('', '', '', '', '', '', '', '', '')\n",
        "a3.name=input(\"Введите название государства: \")\n",
        "a3.head_of_government=input(\"Введите главу правительства: \")\n",
        "a3.square=float(input(\"Введите площадь: \"))\n",
        "a3.population=int(input(\"Численность населения: \"))\n",
        "a3.regim=input(\"Введите режим: \")\n",
        "a3.formation_government=input(\"За формирование правительства отвечает: \")\n",
        "print(a3)"
      ],
      "execution_count": 36,
      "outputs": [
        {
          "output_type": "stream",
          "name": "stdout",
          "text": [
            "Введите название государства: Линуоке\n",
            "Введите главу правительства: президент\n",
            "Введите площадь: 133467\n",
            "Численность населения: 124567\n",
            "Введите режим: демократический\n",
            "За формирование правительства отвечает: президент\n",
            "Государство: Линуоке, плотность: 0.9333168498580173, режим: демократический, вид: республика, тип президентская, глава государства: президент\n",
            "Введите название государства: Парко\n",
            "Введите главу правительства: монарх\n",
            "Введите площадь: 145687\n",
            "Численность населения: 4678843\n",
            "Введите режим: тоталитарный\n",
            "За формирование правительства отвечает: монарх\n",
            "Государство: Парко, плотность: 32.11572068887409, режим: тоталитарный, вид: монархия, тип абсолютная, глава государства: монарх\n",
            "Введите название государства: Впроке\n",
            "Введите главу правительства: король\n",
            "Введите площадь: 123456\n",
            "Численность населения: 546853\n",
            "Введите режим: тоталитарный\n",
            "За формирование правительства отвечает: король\n",
            "Государство: Впроке, плотность: 4.429537649040954, режим: тоталитарный, вид: монархия, тип конституционная монархия, глава государства: король\n"
          ]
        }
      ]
    }
  ]
}
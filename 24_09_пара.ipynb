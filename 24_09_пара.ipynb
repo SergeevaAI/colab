{
  "nbformat": 4,
  "nbformat_minor": 0,
  "metadata": {
    "colab": {
      "name": "24.09 пара.ipynb",
      "provenance": [],
      "collapsed_sections": [],
      "authorship_tag": "ABX9TyOBJujanvQ2fWCwyHxkelbd",
      "include_colab_link": true
    },
    "kernelspec": {
      "name": "python3",
      "display_name": "Python 3"
    },
    "language_info": {
      "name": "python"
    }
  },
  "cells": [
    {
      "cell_type": "markdown",
      "metadata": {
        "id": "view-in-github",
        "colab_type": "text"
      },
      "source": [
        "<a href=\"https://colab.research.google.com/github/SergeevaAI/colab/blob/main/24_09_%D0%BF%D0%B0%D1%80%D0%B0.ipynb\" target=\"_parent\"><img src=\"https://colab.research.google.com/assets/colab-badge.svg\" alt=\"Open In Colab\"/></a>"
      ]
    },
    {
      "cell_type": "code",
      "metadata": {
        "id": "1yS2dWn6Qnxn",
        "colab": {
          "base_uri": "https://localhost:8080/"
        },
        "outputId": "576386bf-b217-4804-ce59-5c394092a21d"
      },
      "source": [
        "class Cat:\n",
        "  def __init__(self):\n",
        "    self.hungry = True\n",
        "  def eat(self):\n",
        "    if self.hungry:\n",
        "      print('I am hungry...')\n",
        "      self.hungry = False\n",
        "    else:\n",
        "      print('No, thanks!')\n",
        "class Barsik(Cat):\n",
        "  def __init__(self):\n",
        "    Cat.__init__(self)\n",
        "    self.sound = 'Aaammm!'\n",
        "    print(self.sound)\n",
        "brs = Barsik()\n",
        "brs.eat()"
      ],
      "execution_count": null,
      "outputs": [
        {
          "output_type": "stream",
          "name": "stdout",
          "text": [
            "Aaammm!\n",
            "I am hungry...\n"
          ]
        }
      ]
    },
    {
      "cell_type": "code",
      "metadata": {
        "colab": {
          "base_uri": "https://localhost:8080/"
        },
        "id": "Q6AaeUnbVve5",
        "outputId": "0a84aaca-dcba-4df2-a594-2bc6048349af"
      },
      "source": [
        "class SpaceShip:\n",
        "  def __init__(self):\n",
        "    self.hp = 100\n",
        "    self.speed=13000\n",
        "    self.crew=64\n",
        "    self.power_reserve=56000\n",
        "  def __str__(self):\n",
        "    return \"SpaceShip: {}; {}; {}; {}\".format(self.hp, self.speed, self.crew, self.power_reserve)\n",
        "  def draw(self):\n",
        "    print('+-|--------|-+')\n",
        "    print('+    ПП      +')\n",
        "    print('+    ПП      +')\n",
        "    print('+---П------П--+')\n",
        " \n",
        "class StarDestroyer(SpaceShip):\n",
        "   def __init__(self):\n",
        "     super().__init__()\n",
        "     self.shields=100\n",
        "     self.shields_enabled=False\n",
        "     self.weapons=[100]*15\n",
        "   def __str__(self): \n",
        "     return \"StarDestroyer: {}; {}\".format(self.shields, self.weapons)\n",
        "   def shields_on(self):\n",
        "     self.shields_enabled = False\n",
        "   def hit(self):\n",
        "     if self.shields_enabled:\n",
        "       self.shields-=10\n",
        "     else:\n",
        "       self.hp-=10\n",
        "   def draw(self):\n",
        "     print(\"       /\\       \")\n",
        "     print(\"      /  \\       \")\n",
        "     print(\"     /    \\       \")\n",
        "     print(\"    / | |  \\       \")\n",
        "     print(\"   /        \\       \")\n",
        "     print(\"  / / .. \\   \\      \")\n",
        "     print(\" /  +----+    \\       \")\n",
        "     print(\"+---+-+--+-+--+\")\n",
        "     print(\"   |_|    |_|\")\n",
        "brs1 = StarDestroyer()\n",
        "brs1.draw()     "
      ],
      "execution_count": null,
      "outputs": [
        {
          "output_type": "stream",
          "name": "stdout",
          "text": [
            "       /\\       \n",
            "      /  \\       \n",
            "     /    \\       \n",
            "    / | |  \\       \n",
            "   /        \\       \n",
            "  / / .. \\   \\      \n",
            " /  +----+    \\       \n",
            "+---+-+--+-+--+\n",
            "   |_|    |_|\n"
          ]
        }
      ]
    },
    {
      "cell_type": "code",
      "metadata": {
        "id": "qC-oLPuPdZJ8",
        "colab": {
          "base_uri": "https://localhost:8080/"
        },
        "outputId": "27515b27-cb2c-4819-c7a3-6741e3ac8717"
      },
      "source": [
        "class Section:\n",
        "  def __init__(self, color, active=False):\n",
        "    self.color=color\n",
        "    self.active=active\n",
        "  def draw(self):\n",
        "    print(\"+{:4}+\".format(self.color[:4]))\n",
        "    print(\"|/{}\\\\|\".format(\"##\" if self.active else \" \"))\n",
        "    print(\"|\\\\{}/|\".format(\"##\" if self.active else \" \"))\n",
        "class ArrowSection(Section):\n",
        "  def __init__(self, active=False):\n",
        "    super().__init__(\"Green\", active)\n",
        "  def draw(self):\n",
        "    print(\"+{:3}+\".format(self.color[:3]))\n",
        "    print(\"| {} |\".format(\"#\\\\\" if self.active else \" \"))\n",
        "    print(\"| {} |\".format(\"#/\" if self.active else \" \"))\n",
        "class TrafficLight:\n",
        "  def __init__(self): \n",
        "    self.sections = [Section('Red'), Section('Yellow'), Section('Green')] \n",
        "    self.time=0\n",
        "    self.time_to_switch=5\n",
        "    self.state_number=0\n",
        "  def draw(self):\n",
        "    print(\"T = {}\".format(self.time))\n",
        "    for item in self.sections: \n",
        "      item.draw()\n",
        "    print(\"+----+\\n\")\n",
        "  def step(self, time=1):\n",
        "    self.time+=time\n",
        "    self.time %= (self.time_to_switch * len(self.sections))\n",
        "    self.state_number=self.time//self.time_to_switch\n",
        "    self.sections[0].active=(self.state_number==0)\n",
        "    self.sections[1].active=(self.state_number==1)\n",
        "    self.sections[2].active=(self.state_number>1)\n",
        "class TrafficExtendedLight(TrafficLight):\n",
        "  def __init__(self):\n",
        "    super().__init__()\n",
        "    self.sections.append(ArrowSection(True))\n",
        "  def step(self, time=1):\n",
        "    super().step(time)\n",
        "    self.sections[3].active=(self.state_number==3)\n",
        "\n",
        "#.............................\n",
        "b=TrafficExtendedLight()\n",
        "b.step(time=0)\n",
        "b.draw()\n",
        "\n",
        "c=TrafficExtendedLight()\n",
        "c.step(time=5)\n",
        "c.draw()\n",
        "\n",
        "d=TrafficExtendedLight()\n",
        "d.step(time=10)\n",
        "d.draw()\n",
        "\n",
        "e=TrafficExtendedLight()\n",
        "e.step(time=15)\n",
        "e.draw()"
      ],
      "execution_count": null,
      "outputs": [
        {
          "output_type": "stream",
          "name": "stdout",
          "text": [
            "T = 0\n",
            "+Red +\n",
            "|/##\\|\n",
            "|\\##/|\n",
            "+Yell+\n",
            "|/ \\|\n",
            "|\\ /|\n",
            "+Gree+\n",
            "|/ \\|\n",
            "|\\ /|\n",
            "+Gre+\n",
            "|   |\n",
            "|   |\n",
            "+----+\n",
            "\n",
            "T = 5\n",
            "+Red +\n",
            "|/ \\|\n",
            "|\\ /|\n",
            "+Yell+\n",
            "|/##\\|\n",
            "|\\##/|\n",
            "+Gree+\n",
            "|/ \\|\n",
            "|\\ /|\n",
            "+Gre+\n",
            "|   |\n",
            "|   |\n",
            "+----+\n",
            "\n",
            "T = 10\n",
            "+Red +\n",
            "|/ \\|\n",
            "|\\ /|\n",
            "+Yell+\n",
            "|/ \\|\n",
            "|\\ /|\n",
            "+Gree+\n",
            "|/##\\|\n",
            "|\\##/|\n",
            "+Gre+\n",
            "|   |\n",
            "|   |\n",
            "+----+\n",
            "\n",
            "T = 15\n",
            "+Red +\n",
            "|/ \\|\n",
            "|\\ /|\n",
            "+Yell+\n",
            "|/ \\|\n",
            "|\\ /|\n",
            "+Gree+\n",
            "|/##\\|\n",
            "|\\##/|\n",
            "+Gre+\n",
            "| #\\ |\n",
            "| #/ |\n",
            "+----+\n",
            "\n"
          ]
        }
      ]
    }
  ]
}
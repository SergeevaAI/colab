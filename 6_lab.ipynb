{
  "nbformat": 4,
  "nbformat_minor": 0,
  "metadata": {
    "colab": {
      "name": "6 lab.ipynb",
      "provenance": [],
      "authorship_tag": "ABX9TyPdfyija6KTvCIeybBWlAgm",
      "include_colab_link": true
    },
    "kernelspec": {
      "name": "python3",
      "display_name": "Python 3"
    },
    "language_info": {
      "name": "python"
    }
  },
  "cells": [
    {
      "cell_type": "markdown",
      "metadata": {
        "id": "view-in-github",
        "colab_type": "text"
      },
      "source": [
        "<a href=\"https://colab.research.google.com/github/SergeevaAI/colab/blob/main/6_lab.ipynb\" target=\"_parent\"><img src=\"https://colab.research.google.com/assets/colab-badge.svg\" alt=\"Open In Colab\"/></a>"
      ]
    },
    {
      "cell_type": "code",
      "execution_count": null,
      "metadata": {
        "id": "ye3EsQoUf6jN",
        "colab": {
          "base_uri": "https://localhost:8080/"
        },
        "outputId": "4a93d04d-bd7a-4dd6-e036-2241231822ed"
      },
      "outputs": [
        {
          "output_type": "execute_result",
          "data": {
            "text/plain": [
              "[-2, -2, -2, 1, 1, 2, 2, 2, 2, 2, 3, 3, 3, 4, 4, 5, 65]"
            ]
          },
          "metadata": {},
          "execution_count": 1
        }
      ],
      "source": [
        "# Программирование на языке высокого уровня (Python).\n",
        "# https://www.yuripetrov.ru/edu/python\n",
        "# Задание task_06_02_01.\n",
        "#\n",
        "# Выполнила: Сергеева А. И.\n",
        "# Группа: АДЭУ-211\n",
        "# E-mail: SergehewaAI036@mgpu.ru\n",
        "\n",
        "\n",
        "def foo(a):\n",
        "    \"\"\"!!!\n",
        "    Алгоритм: сортировка списка по возрастанию\n",
        "    Сложность: O(N^2).\n",
        "    \"\"\"\n",
        "    for i in range(len(a), 0, -1): #O(N)\n",
        "        for j in range(1, i): #O(N)\n",
        "            if a[j-1] > a[j]: #O(1)\n",
        "                a[j-1], a[j] = a[j], a[j-1] #O(1)\n",
        "    return a\n",
        "\n",
        "# O(N)*O(N)*O(1)*O(1)\n",
        "a = [1, 2, 3, 4, 2, 1, 3, 4, 3, 5, -2, -2, 2, -2, 65, 2, 2]\n",
        "foo(a)\n"
      ]
    },
    {
      "cell_type": "code",
      "source": [
        "# Программирование на языке высокого уровня (Python).\n",
        "# https://www.yuripetrov.ru/edu/python\n",
        "# Задание task_06_02_02.\n",
        "#\n",
        "# Выполнила: Сергеева А. И.\n",
        "# Группа: АДЭУ-211\n",
        "# E-mail: SergehewaAI036@mgpu.ru\n",
        "\n",
        "\n",
        "def foo(i):\n",
        "    \"\"\"!!!\n",
        "\n",
        "    Параметры:\n",
        "        - i (int): число.\n",
        "    Алгоритм: вывод этого числа\n",
        "    Сложность: O(N).\n",
        "    \"\"\"\n",
        "    digits = \"0123456789\"\n",
        "    if i == 0: #O(1)\n",
        "        return \"0\"\n",
        "    result = \"\"\n",
        "    while i > 0: #O(N)\n",
        "        result = digits[i%10] + result\n",
        "        i = i // 10\n",
        "    return result\n"
      ],
      "metadata": {
        "id": "EJVjKOqt06wl"
      },
      "execution_count": null,
      "outputs": []
    },
    {
      "cell_type": "code",
      "source": [
        "# Программирование на языке высокого уровня (Python).\n",
        "# https://www.yuripetrov.ru/edu/python\n",
        "# Задание task_06_02_03.\n",
        "#\n",
        "# Выполнила: Сергеева А. И.\n",
        "# Группа: АДЭУ-211\n",
        "# E-mail: SergehewaAI036@mgpu.ru\n",
        "\n",
        "\n",
        "def foo(s):\n",
        "    \"\"\"!!!\n",
        "\n",
        "    Параметры:\n",
        "        - s (str): строка.\n",
        "    Алгоритм: вывод суммы чисел в строке\n",
        "\n",
        "    Сложность: O(N).\n",
        "    \"\"\"\n",
        "    val = 0\n",
        "    for c in s: #O(N)\n",
        "        if c.isdigit(): #O(1)\n",
        "            val += int(c)\n",
        "    return val\n",
        "#O(N)*O(1)=O(N)"
      ],
      "metadata": {
        "id": "6nu5PJb-2sqa"
      },
      "execution_count": 1,
      "outputs": []
    },
    {
      "cell_type": "code",
      "source": [
        "# Программирование на языке высокого уровня (Python).\n",
        "# https://www.yuripetrov.ru/edu/python\n",
        "# Задание task_06_02_04.\n",
        "#\n",
        "# Выполнила: Сергеева А. И.\n",
        "# Группа: АДЭУ-211\n",
        "# E-mail: SergehewaAI036@mgpu.ru\n",
        "\n",
        "\n",
        "def foo(n):\n",
        "    \"\"\"!!!\n",
        "\n",
        "    Параметры:\n",
        "        - n (int): число.\n",
        "    Алгоритм: вывод чисел до данного числа\n",
        "\n",
        "    \"\"\"\n",
        "    res = []\n",
        "    for i in range(1, n + 1): #O(N)\n",
        "        divisors = 0\n",
        "        j = 2\n",
        "        while j < i and divisors == 0: #O(1)\n",
        "            if i % j == 0: #O(1)\n",
        "                divisors += 1\n",
        "            j += 1\n",
        "\n",
        "        if divisors == 0: #O(1)\n",
        "            res.append(i) #O(1)\n",
        "    return res\n"
      ],
      "metadata": {
        "id": "6Fv4UPw33Y6N"
      },
      "execution_count": 2,
      "outputs": []
    },
    {
      "cell_type": "code",
      "source": [
        "# Программирование на языке высокого уровня (Python).\n",
        "# https://www.yuripetrov.ru/edu/python\n",
        "# Задание task_06_02_05.\n",
        "#\n",
        "# Выполнила: Сергеева А. И.\n",
        "# Группа: АДЭУ-211\n",
        "# E-mail: SergehewaAI036@mgpu.ru\n",
        "\n",
        "\n",
        "def foo(nums):\n",
        "    \"\"\"!!!\n",
        "\n",
        "    Параметры:\n",
        "        - nums (list): список.\n",
        "    Алгоритм: проверка чётн/нечётн элементов\n",
        "\n",
        "    \"\"\"\n",
        "    for x in nums: #O(N)\n",
        "        if x % 2 == 0:\n",
        "            return True\n",
        "    else:\n",
        "        return False"
      ],
      "metadata": {
        "id": "njJuC2Qc565b"
      },
      "execution_count": 3,
      "outputs": []
    },
    {
      "cell_type": "code",
      "source": [
        "# Программирование на языке высокого уровня (Python).\n",
        "# https://www.yuripetrov.ru/edu/python\n",
        "# Задание task_06_02_06.\n",
        "#\n",
        "# Выполнила: Сергеева А. И.\n",
        "# Группа: АДЭУ-211\n",
        "# E-mail: SergehewaAI036@mgpu.ru\n",
        "\n",
        "\n",
        "def foo(nums):\n",
        "    \"\"\"!!!\n",
        "\n",
        "    Параметры:\n",
        "        - nums (list): список.\n",
        "    Алгоритм: сумма первого элемента и последнего элемента в квадрате\n",
        "    Сложность: 0(1).\n",
        "    \"\"\"\n",
        "    return (nums[0] + nums[-1] ** 2) #O(1)"
      ],
      "metadata": {
        "id": "mruGunT6pQ3B"
      },
      "execution_count": 5,
      "outputs": []
    },
    {
      "cell_type": "code",
      "source": [
        "# Программирование на языке высокого уровня (Python).\n",
        "# https://www.yuripetrov.ru/edu/python\n",
        "# Задание task_06_02_07.\n",
        "#\n",
        "# Выполнила: Сергеева А. И.\n",
        "# Группа: АДЭУ-211\n",
        "# E-mail: SergehewaAI036@mgpu.ru\n",
        "\n",
        "\n",
        "def foo(low, high):\n",
        "    \"\"\"!!!\n",
        "\n",
        "    Параметры:\n",
        "        - low (int): нижняя граница;\n",
        "        - high (int): верхняя граница.\n",
        "\n",
        "    Сложность: O(log N).\n",
        "    Алгоритм: поиск загаданного числа\n",
        "    \"\"\"\n",
        "    guessing = True\n",
        "    while guessing:\n",
        "        guess = (low + high) // 2\n",
        "        print(\"Загаданное число {0}?\".format(guess))\n",
        "        pointer = input(\n",
        "            \"Введите '+', если Ваше число меньше.\\n\"\n",
        "            \"Введите '-' если Ваше число больше.\\n\"\n",
        "            \"Введите '=', если я угадал.\\n\").lower()\n",
        "        if pointer == \"+\":\n",
        "            high = guess\n",
        "        elif pointer == \"-\":\n",
        "            low = guess\n",
        "        elif pointer == \"=\":\n",
        "            guessing = False\n",
        "        else:\n",
        "            print(\"Введите '+', '-' или '='.\")\n",
        "\n",
        "    return guess\n",
        "\n",
        "\n",
        "# ЗАКОММЕНТИРУЙТЕ этот код перед запуском проверки\n",
        "low, high = 0, 100\n",
        "print(\"Пожалуйста, загадайте число от {0} до {1}!\".format(low, high))\n",
        "guess = foo(low, high)\n",
        "print(\"Игра окончена, Вы загадали число: {0}.\".format(guess))\n"
      ],
      "metadata": {
        "colab": {
          "base_uri": "https://localhost:8080/"
        },
        "id": "45peocr5qidF",
        "outputId": "decce945-9fbb-4b45-d054-12e471a10010"
      },
      "execution_count": 7,
      "outputs": [
        {
          "output_type": "stream",
          "name": "stdout",
          "text": [
            "Пожалуйста, загадайте число от 0 до 100!\n",
            "Загаданное число 50?\n",
            "Введите '+', если Ваше число меньше.\n",
            "Введите '-' если Ваше число больше.\n",
            "Введите '=', если я угадал.\n",
            "7\n",
            "Введите '+', '-' или '='.\n",
            "Загаданное число 50?\n",
            "Введите '+', если Ваше число меньше.\n",
            "Введите '-' если Ваше число больше.\n",
            "Введите '=', если я угадал.\n",
            "+\n",
            "Загаданное число 25?\n",
            "Введите '+', если Ваше число меньше.\n",
            "Введите '-' если Ваше число больше.\n",
            "Введите '=', если я угадал.\n",
            "+\n",
            "Загаданное число 12?\n",
            "Введите '+', если Ваше число меньше.\n",
            "Введите '-' если Ваше число больше.\n",
            "Введите '=', если я угадал.\n",
            "+\n",
            "Загаданное число 6?\n",
            "Введите '+', если Ваше число меньше.\n",
            "Введите '-' если Ваше число больше.\n",
            "Введите '=', если я угадал.\n",
            "-\n",
            "Загаданное число 9?\n",
            "Введите '+', если Ваше число меньше.\n",
            "Введите '-' если Ваше число больше.\n",
            "Введите '=', если я угадал.\n",
            "+\n",
            "Загаданное число 7?\n",
            "Введите '+', если Ваше число меньше.\n",
            "Введите '-' если Ваше число больше.\n",
            "Введите '=', если я угадал.\n",
            "=\n",
            "Игра окончена, Вы загадали число: 7.\n"
          ]
        }
      ]
    }
  ]
}
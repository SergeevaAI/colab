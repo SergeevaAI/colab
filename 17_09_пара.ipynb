{
  "nbformat": 4,
  "nbformat_minor": 0,
  "metadata": {
    "colab": {
      "name": "17.09 пара.ipynb",
      "provenance": [],
      "collapsed_sections": [],
      "authorship_tag": "ABX9TyPp857N/XOW4o+3CPs6fRmA",
      "include_colab_link": true
    },
    "kernelspec": {
      "name": "python3",
      "display_name": "Python 3"
    },
    "language_info": {
      "name": "python"
    }
  },
  "cells": [
    {
      "cell_type": "markdown",
      "metadata": {
        "id": "view-in-github",
        "colab_type": "text"
      },
      "source": [
        "<a href=\"https://colab.research.google.com/github/SergeevaAI/colab/blob/main/17_09_%D0%BF%D0%B0%D1%80%D0%B0.ipynb\" target=\"_parent\"><img src=\"https://colab.research.google.com/assets/colab-badge.svg\" alt=\"Open In Colab\"/></a>"
      ]
    },
    {
      "cell_type": "code",
      "metadata": {
        "colab": {
          "base_uri": "https://localhost:8080/"
        },
        "id": "9pPo9zgEMpaC",
        "outputId": "dc463d9c-a408-4193-8255-2d0b16468d54"
      },
      "source": [
        "class T1:\n",
        "  n=10\n",
        "  def total(self, N):\n",
        "    self.total = int(self.n)+int(N)\n",
        "class T2:\n",
        "  def total(self, s):\n",
        "    self.total = len(str(s))\n",
        "t1 = T1()\n",
        "t2 = T2()\n",
        "t1.total(45)\n",
        "t2.total(45)\n",
        "print(t1.total)\n",
        "print(t2.total)"
      ],
      "execution_count": null,
      "outputs": [
        {
          "output_type": "stream",
          "name": "stdout",
          "text": [
            "55\n",
            "2\n"
          ]
        }
      ]
    },
    {
      "cell_type": "code",
      "metadata": {
        "colab": {
          "base_uri": "https://localhost:8080/"
        },
        "id": "Sl9KfO5hS7X9",
        "outputId": "9a5ff73c-99c9-4980-ffdc-8368fc537836"
      },
      "source": [
        "class One:\n",
        " def __init__(self, N):\n",
        "   self.N=N*N\n",
        " class Two:\n",
        "   def __init__(self, N):\n",
        "     self.N=self.N*2\n",
        "a = int(input(\"Введите число: \"))\n",
        "if -100<=a<=100:\n",
        "  obj=One(a) \n",
        "else:\n",
        "  obj=Two(a)\n",
        "print(obj.N)       "
      ],
      "execution_count": null,
      "outputs": [
        {
          "output_type": "stream",
          "name": "stdout",
          "text": [
            "Введите число: 12\n",
            "144\n"
          ]
        }
      ]
    },
    {
      "cell_type": "code",
      "metadata": {
        "colab": {
          "base_uri": "https://localhost:8080/"
        },
        "id": "j7TQks3IXOcj",
        "outputId": "e38c30a7-8d83-44c0-dd5c-954f78e4cdb1"
      },
      "source": [
        "class Base:\n",
        "  def __init__(self, n):\n",
        "    self.numb = n\n",
        "  def out(self):  \n",
        "    print(self.numb)\n",
        "class One(Base):\n",
        "  def multi(self, m):\n",
        "    self.numb*=m\n",
        "class Two(Base):\n",
        "  def inlist(self):  \n",
        "    self.inlist = list(str(self.numb))\n",
        "  def out(self):\n",
        "    i = 0\n",
        "    while i < len(self.inlist):\n",
        "          print(self.inlist[i])\n",
        "          i += 1\n",
        "obj1 = One(45)\n",
        "obj2 = Two('abc')\n",
        "obj1.multi(2)\n",
        "obj1.out()\n",
        "obj2.inlist()\n",
        "obj2.out()   \n",
        "t=int(input(\"Введите число: \"))\n",
        "obj= Base(t)\n",
        "print(obj.out())\n",
        "obj=One(t)\n",
        "print(obj.multi(t))\n",
        "obj=Two(t)\n",
        "print(obj.inlist())"
      ],
      "execution_count": 20,
      "outputs": [
        {
          "output_type": "stream",
          "name": "stdout",
          "text": [
            "90\n",
            "a\n",
            "b\n",
            "c\n",
            "Введите число: 12\n",
            "12\n",
            "None\n",
            "None\n",
            "None\n"
          ]
        }
      ]
    }
  ]
}